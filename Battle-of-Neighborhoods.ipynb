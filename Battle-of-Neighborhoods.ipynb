{
 "cells": [
  {
   "cell_type": "markdown",
   "metadata": {},
   "source": [
    "# Battle of Neighborhoods"
   ]
  },
  {
   "cell_type": "markdown",
   "metadata": {},
   "source": [
    "## 1. Introduction"
   ]
  },
  {
   "cell_type": "markdown",
   "metadata": {},
   "source": [
    "### 1.1 Background"
   ]
  },
  {
   "cell_type": "markdown",
   "metadata": {},
   "source": [
    "New York is a major central city for diversity since many people from different cultural atmospheres have brought their families and dreams to New York City. The city has consistently seen people from around the world move to the city and call it home. It has been a center for trade and economic growth. New York is known world wide as a cultural melting pot. While other states have had immigration surges, none have compared to the diversity and sheer number of immigrants that have made their way to the City. So these number of varies cultures combined to create a great diversity for itself. Since People from all over the world tend to come up here, we can see some many of their cultural aspects Transport, Food, Clothing, and so on..."
   ]
  },
  {
   "cell_type": "markdown",
   "metadata": {},
   "source": [
    "### 1.2 Problem"
   ]
  },
  {
   "cell_type": "markdown",
   "metadata": {},
   "source": [
    "Restaurant is a place where people come to have food and drinks for a cost, People love to do many things and try something new or stick with their own routines, it depends on the individual and there are so many of them with different cultural and various aspects in New York city. There are so many cuisines, which is based on the style of cooking, the ingredients, dishes and techniques. For our problem lets stick with Indian cuisine.\n",
    "\n",
    "Let's assume in this one of the world's most diverse region we want to open an Indian restaurant, so what are all the factors we have to take into account such as follows,\n",
    "\n",
    "* Market Places\n",
    "* Competition in particular location\n",
    "* Aiding places that make people come to restaurants like Gym, Entertaining Public places\n",
    "* Population\n",
    "* Menu from competitors\n",
    "\n",
    "And so on...\n",
    "So our solution needs to be data driven for avoiding or considering low risk criteria and high success rate and thus apply our overall knowledge in the techniques and the tools gained so far in this course."
   ]
  },
  {
   "cell_type": "markdown",
   "metadata": {},
   "source": [
    "### 1.3 Interest"
   ]
  },
  {
   "cell_type": "markdown",
   "metadata": {},
   "source": [
    "The main interest of the Business to be started as an Indian Cuisine restaurant would be to know about the many criteria that leads to come to a data driven conclusion for selecting the best neighborhood for opening one. But some of the criteria we are gonna be focusing on in our project is as follows,\n",
    "* Best Neighborhood for opening Restaurant (Indian Cuisine) in New York.\n",
    "* Area which lack Indian Restaurants.\n",
    "* Places with best Indian Cuisine.\n",
    "* Areas with Potential Indian Restaurants. "
   ]
  },
  {
   "cell_type": "markdown",
   "metadata": {},
   "source": [
    "## 2. Data Acquisition and Cleaning"
   ]
  },
  {
   "cell_type": "markdown",
   "metadata": {},
   "source": [
    "### 2.1 Data Sources"
   ]
  },
  {
   "cell_type": "markdown",
   "metadata": {},
   "source": [
    "Since we will be focusing on New York for opening our restaurant, we will be gathering the data for the same and the three main data we are gonna use are the New York Neighborhood data which we already used in the Neighborhoods in New York and the data about the cuisines in New York and the Geo spacial data of boundaries of the Neighborhoods in New York."
   ]
  },
  {
   "cell_type": "markdown",
   "metadata": {},
   "source": [
    "#### 2.1.1 Data 1:"
   ]
  },
  {
   "cell_type": "markdown",
   "metadata": {},
   "source": [
    "New York Neighborhood Data which will be used to get to know about the various neighborhoods which are gonna take into consideration for our Project."
   ]
  },
  {
   "cell_type": "markdown",
   "metadata": {},
   "source": [
    "![data-1.jpg](https://raw.githubusercontent.com/rohanbollareddi/Coursera_Capstone/master/data-1.jpg)"
   ]
  },
  {
   "cell_type": "markdown",
   "metadata": {},
   "source": [
    "Data source : https://cocl.us/new_york_dataset"
   ]
  },
  {
   "cell_type": "markdown",
   "metadata": {},
   "source": [
    "#### 2.1.2 Data 2:"
   ]
  },
  {
   "cell_type": "markdown",
   "metadata": {},
   "source": [
    "Geo-spacial data of the New York to get a better understanding of the neighborhoods in it and their corresponding locations in the Folium map would make certain things clear for the Project. This will be achieved using the acquired data and visualize the same using Choropleth maps."
   ]
  },
  {
   "cell_type": "markdown",
   "metadata": {},
   "source": [
    "![data-2.jpg](https://raw.githubusercontent.com/rohanbollareddi/Coursera_Capstone/master/data-2.jpg)"
   ]
  },
  {
   "cell_type": "markdown",
   "metadata": {},
   "source": [
    "Data source : https://data.cityofnewyork.us/City-Government/Borough-Boundaries/tqmj-j8zm"
   ]
  },
  {
   "cell_type": "markdown",
   "metadata": {},
   "source": [
    "#### 2.1.3 Data 3:"
   ]
  },
  {
   "cell_type": "markdown",
   "metadata": {},
   "source": [
    "Finally the data going to be collected/acquired from the Foursquare API about the various restaurants in each neighborhood of New York city especially Indian cuisine, which will be used  for acquiring the information regarding same for all the venues of each neighborhood. \n",
    "\n",
    "Data source : [Foursquare](https://enterprise.foursquare.com/products/places)"
   ]
  },
  {
   "cell_type": "markdown",
   "metadata": {},
   "source": [
    "### 2.2 Data Cleaning and approach"
   ]
  },
  {
   "cell_type": "markdown",
   "metadata": {},
   "source": [
    "* Acquire the data from the various sources as mentioned below,\n",
    "  * New York neighborhood data from https://cocl.us/new_york_dataset\n",
    "  * Borough Boundaries data from https://data.cityofnewyork.us/City-Government/Borough-Boundaries/tqmj-j8zm\n",
    "  * Indian Cuisine related data from [Foursquare](https://enterprise.foursquare.com/products/places)\n",
    "* Filter the data for the required data acquired from Foursqaure which is only about Indian Cuisine.\n",
    "* Acquire the tips and from that get the rating of every restaurant in the neighborhood of New York.\n",
    "* Visualize the findings using Matplot lib and Folium for better understanding.\n"
   ]
  },
  {
   "cell_type": "markdown",
   "metadata": {},
   "source": [
    "## 3. Exploratory Data Analysis"
   ]
  },
  {
   "cell_type": "markdown",
   "metadata": {},
   "source": [
    "### 3.1 Relationship between the neighborhood and the restaurant"
   ]
  },
  {
   "cell_type": "markdown",
   "metadata": {},
   "source": [
    "Import all the required libraries which will be used from here on."
   ]
  },
  {
   "cell_type": "code",
   "execution_count": 5,
   "metadata": {},
   "outputs": [
    {
     "name": "stdout",
     "output_type": "stream",
     "text": [
      "Solving environment: done\n",
      "\n",
      "\n",
      "==> WARNING: A newer version of conda exists. <==\n",
      "  current version: 4.5.11\n",
      "  latest version: 4.7.12\n",
      "\n",
      "Please update conda by running\n",
      "\n",
      "    $ conda update -n base -c defaults conda\n",
      "\n",
      "\n",
      "\n",
      "## Package Plan ##\n",
      "\n",
      "  environment location: /home/jupyterlab/conda/envs/python\n",
      "\n",
      "  added / updated specs: \n",
      "    - geopy\n",
      "\n",
      "\n",
      "The following packages will be downloaded:\n",
      "\n",
      "    package                    |            build\n",
      "    ---------------------------|-----------------\n",
      "    certifi-2019.11.28         |           py36_0         149 KB  conda-forge\n",
      "    scikit-learn-0.20.1        |   py36h22eb022_0         5.7 MB\n",
      "    liblapack-3.8.0            |      11_openblas          10 KB  conda-forge\n",
      "    scipy-1.3.2                |   py36h921218d_0        18.0 MB  conda-forge\n",
      "    geographiclib-1.50         |             py_0          34 KB  conda-forge\n",
      "    libopenblas-0.3.6          |       h5a2b251_2         7.7 MB\n",
      "    liblapacke-3.8.0           |      11_openblas          10 KB  conda-forge\n",
      "    numpy-1.17.3               |   py36h95a1406_0         5.2 MB  conda-forge\n",
      "    libcblas-3.8.0             |      11_openblas          10 KB  conda-forge\n",
      "    libblas-3.8.0              |      11_openblas          10 KB  conda-forge\n",
      "    geopy-1.20.0               |             py_0          57 KB  conda-forge\n",
      "    blas-2.11                  |         openblas          10 KB  conda-forge\n",
      "    ------------------------------------------------------------\n",
      "                                           Total:        36.9 MB\n",
      "\n",
      "The following NEW packages will be INSTALLED:\n",
      "\n",
      "    geographiclib: 1.50-py_0                              conda-forge\n",
      "    geopy:         1.20.0-py_0                            conda-forge\n",
      "    libblas:       3.8.0-11_openblas                      conda-forge\n",
      "    libcblas:      3.8.0-11_openblas                      conda-forge\n",
      "    liblapack:     3.8.0-11_openblas                      conda-forge\n",
      "    liblapacke:    3.8.0-11_openblas                      conda-forge\n",
      "    libopenblas:   0.3.6-h5a2b251_2                                  \n",
      "\n",
      "The following packages will be UPDATED:\n",
      "\n",
      "    blas:          1.1-openblas                           conda-forge --> 2.11-openblas         conda-forge\n",
      "    certifi:       2019.9.11-py36_0                       conda-forge --> 2019.11.28-py36_0     conda-forge\n",
      "    numpy:         1.16.2-py36_blas_openblash1522bff_0    conda-forge [blas_openblas] --> 1.17.3-py36h95a1406_0 conda-forge\n",
      "    scipy:         1.2.1-py36_blas_openblash1522bff_0     conda-forge [blas_openblas] --> 1.3.2-py36h921218d_0  conda-forge\n",
      "\n",
      "The following packages will be DOWNGRADED:\n",
      "\n",
      "    scikit-learn:  0.20.1-py36_blas_openblashebff5e3_1200 conda-forge [blas_openblas] --> 0.20.1-py36h22eb022_0            \n",
      "\n",
      "\n",
      "Downloading and Extracting Packages\n",
      "certifi-2019.11.28   | 149 KB    | ##################################### | 100% \n",
      "scikit-learn-0.20.1  | 5.7 MB    | ##################################### | 100% \n",
      "liblapack-3.8.0      | 10 KB     | ##################################### | 100% \n",
      "scipy-1.3.2          | 18.0 MB   | ##################################### | 100% \n",
      "geographiclib-1.50   | 34 KB     | ##################################### | 100% \n",
      "libopenblas-0.3.6    | 7.7 MB    | ##################################### | 100% \n",
      "liblapacke-3.8.0     | 10 KB     | ##################################### | 100% \n",
      "numpy-1.17.3         | 5.2 MB    | ##################################### | 100% \n",
      "libcblas-3.8.0       | 10 KB     | ##################################### | 100% \n",
      "libblas-3.8.0        | 10 KB     | ##################################### | 100% \n",
      "geopy-1.20.0         | 57 KB     | ##################################### | 100% \n",
      "blas-2.11            | 10 KB     | ##################################### | 100% \n",
      "Preparing transaction: done\n",
      "Verifying transaction: done\n",
      "Executing transaction: done\n",
      "Imported Libraries.\n"
     ]
    }
   ],
   "source": [
    "import pandas as pd\n",
    "import numpy as np\n",
    "import requests\n",
    "import os\n",
    "\n",
    "import folium # For rendering maps\n",
    "\n",
    "!conda install -c conda-forge geopy --yes \n",
    "from geopy.geocoders import Nominatim # Acquiring latitude and longitude\n",
    "\n",
    "# Matplotlib and associated plotting modules\n",
    "import matplotlib.pyplot as plt\n",
    "import matplotlib.cm as cm\n",
    "import matplotlib.colors as colors\n",
    "%matplotlib inline\n",
    "\n",
    "pd.set_option('display.max_columns', None)\n",
    "pd.set_option('display.max_rows', None)\n",
    "\n",
    "print('Imported Libraries.')"
   ]
  },
  {
   "cell_type": "markdown",
   "metadata": {},
   "source": [
    "Define function to create a data set about New York from the acquired data."
   ]
  },
  {
   "cell_type": "code",
   "execution_count": 6,
   "metadata": {},
   "outputs": [],
   "source": [
    "def get_new_york_data():\n",
    "    url='https://cocl.us/new_york_dataset'\n",
    "    resp=requests.get(url).json()\n",
    "    # all data is present in features label\n",
    "    features=resp['features']\n",
    "    \n",
    "    # define the dataframe columns\n",
    "    column_names = ['Borough', 'Neighborhood', 'Latitude', 'Longitude'] \n",
    "    # instantiate the dataframe\n",
    "    new_york_data = pd.DataFrame(columns=column_names)\n",
    "    \n",
    "    for data in features:\n",
    "        borough = data['properties']['borough'] \n",
    "        neighborhood_name = data['properties']['name']\n",
    "        \n",
    "        neighborhood_latlon = data['geometry']['coordinates']\n",
    "        neighborhood_lat = neighborhood_latlon[1]\n",
    "        neighborhood_lon = neighborhood_latlon[0]\n",
    "    \n",
    "        new_york_data = new_york_data.append({'Borough': borough,\n",
    "                                          'Neighborhood': neighborhood_name,\n",
    "                                          'Latitude': neighborhood_lat,\n",
    "                                          'Longitude': neighborhood_lon}, ignore_index=True)\n",
    "    \n",
    "    return new_york_data"
   ]
  },
  {
   "cell_type": "code",
   "execution_count": 7,
   "metadata": {},
   "outputs": [],
   "source": [
    "df_ny = get_new_york_data()"
   ]
  },
  {
   "cell_type": "code",
   "execution_count": 8,
   "metadata": {},
   "outputs": [
    {
     "data": {
      "text/html": [
       "<div>\n",
       "<style scoped>\n",
       "    .dataframe tbody tr th:only-of-type {\n",
       "        vertical-align: middle;\n",
       "    }\n",
       "\n",
       "    .dataframe tbody tr th {\n",
       "        vertical-align: top;\n",
       "    }\n",
       "\n",
       "    .dataframe thead th {\n",
       "        text-align: right;\n",
       "    }\n",
       "</style>\n",
       "<table border=\"1\" class=\"dataframe\">\n",
       "  <thead>\n",
       "    <tr style=\"text-align: right;\">\n",
       "      <th></th>\n",
       "      <th>Borough</th>\n",
       "      <th>Neighborhood</th>\n",
       "      <th>Latitude</th>\n",
       "      <th>Longitude</th>\n",
       "    </tr>\n",
       "  </thead>\n",
       "  <tbody>\n",
       "    <tr>\n",
       "      <th>0</th>\n",
       "      <td>Bronx</td>\n",
       "      <td>Wakefield</td>\n",
       "      <td>40.894705</td>\n",
       "      <td>-73.847201</td>\n",
       "    </tr>\n",
       "    <tr>\n",
       "      <th>1</th>\n",
       "      <td>Bronx</td>\n",
       "      <td>Co-op City</td>\n",
       "      <td>40.874294</td>\n",
       "      <td>-73.829939</td>\n",
       "    </tr>\n",
       "    <tr>\n",
       "      <th>2</th>\n",
       "      <td>Bronx</td>\n",
       "      <td>Eastchester</td>\n",
       "      <td>40.887556</td>\n",
       "      <td>-73.827806</td>\n",
       "    </tr>\n",
       "    <tr>\n",
       "      <th>3</th>\n",
       "      <td>Bronx</td>\n",
       "      <td>Fieldston</td>\n",
       "      <td>40.895437</td>\n",
       "      <td>-73.905643</td>\n",
       "    </tr>\n",
       "    <tr>\n",
       "      <th>4</th>\n",
       "      <td>Bronx</td>\n",
       "      <td>Riverdale</td>\n",
       "      <td>40.890834</td>\n",
       "      <td>-73.912585</td>\n",
       "    </tr>\n",
       "  </tbody>\n",
       "</table>\n",
       "</div>"
      ],
      "text/plain": [
       "  Borough Neighborhood   Latitude  Longitude\n",
       "0   Bronx    Wakefield  40.894705 -73.847201\n",
       "1   Bronx   Co-op City  40.874294 -73.829939\n",
       "2   Bronx  Eastchester  40.887556 -73.827806\n",
       "3   Bronx    Fieldston  40.895437 -73.905643\n",
       "4   Bronx    Riverdale  40.890834 -73.912585"
      ]
     },
     "execution_count": 8,
     "metadata": {},
     "output_type": "execute_result"
    }
   ],
   "source": [
    "df_ny.head()"
   ]
  },
  {
   "cell_type": "code",
   "execution_count": 9,
   "metadata": {},
   "outputs": [
    {
     "data": {
      "text/plain": [
       "(306, 4)"
      ]
     },
     "execution_count": 9,
     "metadata": {},
     "output_type": "execute_result"
    }
   ],
   "source": [
    "df_ny.shape"
   ]
  },
  {
   "cell_type": "code",
   "execution_count": 21,
   "metadata": {},
   "outputs": [
    {
     "data": {
      "text/html": [
       "<div>\n",
       "<style scoped>\n",
       "    .dataframe tbody tr th:only-of-type {\n",
       "        vertical-align: middle;\n",
       "    }\n",
       "\n",
       "    .dataframe tbody tr th {\n",
       "        vertical-align: top;\n",
       "    }\n",
       "\n",
       "    .dataframe thead th {\n",
       "        text-align: right;\n",
       "    }\n",
       "</style>\n",
       "<table border=\"1\" class=\"dataframe\">\n",
       "  <thead>\n",
       "    <tr style=\"text-align: right;\">\n",
       "      <th></th>\n",
       "      <th>Borough</th>\n",
       "      <th>Neighborhood</th>\n",
       "      <th>Latitude</th>\n",
       "      <th>Longitude</th>\n",
       "    </tr>\n",
       "  </thead>\n",
       "  <tbody>\n",
       "    <tr>\n",
       "      <th>7</th>\n",
       "      <td>Bronx</td>\n",
       "      <td>Woodlawn</td>\n",
       "      <td>40.898273</td>\n",
       "      <td>-73.867315</td>\n",
       "    </tr>\n",
       "  </tbody>\n",
       "</table>\n",
       "</div>"
      ],
      "text/plain": [
       "  Borough Neighborhood   Latitude  Longitude\n",
       "7   Bronx     Woodlawn  40.898273 -73.867315"
      ]
     },
     "execution_count": 21,
     "metadata": {},
     "output_type": "execute_result"
    }
   ],
   "source": [
    "df_ny[df_ny['Neighborhood']=='Woodlawn']"
   ]
  },
  {
   "cell_type": "markdown",
   "metadata": {},
   "source": [
    "Initially get to know about the various boroughs and neighborhoods using a bar chart in New York."
   ]
  },
  {
   "cell_type": "code",
   "execution_count": 10,
   "metadata": {},
   "outputs": [
    {
     "data": {
      "image/png": "[encoded data removed]",
      "text/plain": [
       "<Figure size 560x560 with 1 Axes>"
      ]
     },
     "metadata": {
      "needs_background": "light"
     },
     "output_type": "display_data"
    }
   ],
   "source": [
    "plt.figure(figsize=(7,7), dpi = 80)\n",
    "# title\n",
    "plt.title('Number of Neighborhood for each Borough in New York City')\n",
    "#On x-axis\n",
    "plt.xlabel('Borough', fontsize = 15)\n",
    "#On y-axis\n",
    "plt.ylabel('No.of Neighborhood', fontsize=15)\n",
    "#giving a bar plot\n",
    "df_ny.groupby('Borough')['Neighborhood'].count().plot(kind='bar', color='#12EA92')\n",
    "#legend\n",
    "plt.legend()\n",
    "#displays the plot\n",
    "plt.show()"
   ]
  },
  {
   "cell_type": "markdown",
   "metadata": {},
   "source": [
    "Define function for acquiring the latitude and longitude from the provided location"
   ]
  },
  {
   "cell_type": "code",
   "execution_count": 11,
   "metadata": {},
   "outputs": [],
   "source": [
    "def geo_location(address):\n",
    "    # get geo location of address\n",
    "    geolocator = Nominatim(user_agent=\"ny_explorer\")\n",
    "    location = geolocator.geocode(address)\n",
    "    latitude = location.latitude\n",
    "    longitude = location.longitude\n",
    "    return latitude,longitude"
   ]
  },
  {
   "cell_type": "markdown",
   "metadata": {},
   "source": [
    "Define a function to get the details of the venue by accessing the Foursquare API"
   ]
  },
  {
   "cell_type": "code",
   "execution_count": 13,
   "metadata": {},
   "outputs": [],
   "source": [
    "def get_venues(lat,lng):\n",
    "    \n",
    "    #set variables\n",
    "    radius=1000\n",
    "    LIMIT=100\n",
    "    CLIENT_ID = os.environ['CLIENT_ID'] # your Foursquare ID\n",
    "    CLIENT_SECRET = os.environ['CLIENT_SECRET'] # your Foursquare Secret\n",
    "    VERSION = '20180605' # Foursquare API version\n",
    "    \n",
    "    #url to fetch data from foursquare api\n",
    "    url = 'https://api.foursquare.com/v2/venues/explore?&client_id={}&client_secret={}&v={}&ll={},{}&radius={}&limit={}'.format(\n",
    "            CLIENT_ID, \n",
    "            CLIENT_SECRET, \n",
    "            VERSION, \n",
    "            lat, \n",
    "            lng, \n",
    "            radius, \n",
    "            LIMIT)\n",
    "    \n",
    "    # get all the data\n",
    "    results = requests.get(url).json()\n",
    "    venue_data=results[\"response\"]['groups'][0]['items']\n",
    "    venue_details=[]\n",
    "    for row in venue_data:\n",
    "        try:\n",
    "            venue_id=row['venue']['id']\n",
    "            venue_name=row['venue']['name']\n",
    "            venue_category=row['venue']['categories'][0]['name']\n",
    "            venue_details.append([venue_id,venue_name,venue_category])\n",
    "        except KeyError:\n",
    "            pass\n",
    "        \n",
    "    column_names=['ID','Name','Category']\n",
    "    df = pd.DataFrame(venue_details,columns=column_names)\n",
    "    return df\n",
    "\n",
    "def get_venue_details(venue_id):\n",
    "        \n",
    "    CLIENT_ID = os.environ['CLIENT_ID'] # your Foursquare ID\n",
    "    CLIENT_SECRET = os.environ['CLIENT_SECRET'] # your Foursquare Secret\n",
    "    VERSION = '20180605' # Foursquare API version\n",
    "    \n",
    "    #url to fetch data from foursquare api\n",
    "    url = 'https://api.foursquare.com/v2/venues/{}?&client_id={}&client_secret={}&v={}'.format(\n",
    "            venue_id,\n",
    "            CLIENT_ID, \n",
    "            CLIENT_SECRET, \n",
    "            VERSION)\n",
    "    \n",
    "    # get all the data\n",
    "    results = requests.get(url).json()\n",
    "    venue_data=results['response']['venue']\n",
    "    venue_details=[]\n",
    "    try:\n",
    "        venue_id=venue_data['id']\n",
    "        venue_name=venue_data['name']\n",
    "        venue_likes=venue_data['likes']['count']\n",
    "        venue_rating=venue_data['rating']\n",
    "        venue_tips=venue_data['tips']['count']\n",
    "        venue_details.append([venue_id,venue_name,venue_likes,venue_rating,venue_tips])\n",
    "    except KeyError:\n",
    "        pass\n",
    "        \n",
    "    column_names=['ID','Name','Likes','Rating','Tips']\n",
    "    df = pd.DataFrame(venue_details,columns=column_names)\n",
    "    return df"
   ]
  },
  {
   "cell_type": "markdown",
   "metadata": {},
   "source": [
    "Get a list of each and every Indian Cuisine in the New York."
   ]
  },
  {
   "cell_type": "code",
   "execution_count": 23,
   "metadata": {},
   "outputs": [
    {
     "data": {
      "text/html": [
       "<div>\n",
       "<style scoped>\n",
       "    .dataframe tbody tr th:only-of-type {\n",
       "        vertical-align: middle;\n",
       "    }\n",
       "\n",
       "    .dataframe tbody tr th {\n",
       "        vertical-align: top;\n",
       "    }\n",
       "\n",
       "    .dataframe thead th {\n",
       "        text-align: right;\n",
       "    }\n",
       "</style>\n",
       "<table border=\"1\" class=\"dataframe\">\n",
       "  <thead>\n",
       "    <tr style=\"text-align: right;\">\n",
       "      <th></th>\n",
       "      <th>ID</th>\n",
       "      <th>Name</th>\n",
       "      <th>Category</th>\n",
       "    </tr>\n",
       "  </thead>\n",
       "  <tbody>\n",
       "    <tr>\n",
       "      <th>3</th>\n",
       "      <td>4c0448d9310fc9b6bf1dc761</td>\n",
       "      <td>Curry Spot</td>\n",
       "      <td>Indian Restaurant</td>\n",
       "    </tr>\n",
       "  </tbody>\n",
       "</table>\n",
       "</div>"
      ],
      "text/plain": [
       "                         ID        Name           Category\n",
       "3  4c0448d9310fc9b6bf1dc761  Curry Spot  Indian Restaurant"
      ]
     },
     "execution_count": 23,
     "metadata": {},
     "output_type": "execute_result"
    }
   ],
   "source": [
    "vns = get_venues(40.898273,-73.867315)\n",
    "vns[vns['Category']=='Indian Restaurant']"
   ]
  },
  {
   "cell_type": "code",
   "execution_count": 28,
   "metadata": {},
   "outputs": [
    {
     "data": {
      "text/plain": [
       "[['4c0448d9310fc9b6bf1dc761', 'Curry Spot', 'Indian Restaurant']]"
      ]
     },
     "execution_count": 28,
     "metadata": {},
     "output_type": "execute_result"
    }
   ],
   "source": [
    "ind_res = vns[vns['Category']=='Indian Restaurant'].values.tolist()\n",
    "ind_res"
   ]
  },
  {
   "cell_type": "code",
   "execution_count": 33,
   "metadata": {},
   "outputs": [
    {
     "data": {
      "text/plain": [
       "True"
      ]
     },
     "execution_count": 33,
     "metadata": {},
     "output_type": "execute_result"
    }
   ],
   "source": [
    "len(vns[vns['Category']=='Indian Restaurant'].values.tolist()) > 0"
   ]
  },
  {
   "cell_type": "code",
   "execution_count": 36,
   "metadata": {},
   "outputs": [
    {
     "name": "stdout",
     "output_type": "stream",
     "text": [
      "['Bronx', 'Wakefield', 40.89470517661, -73.84720052054902]\n",
      "['Bronx', 'Co-op City', 40.87429419303012, -73.82993910812398]\n",
      "['Bronx', 'Eastchester', 40.887555677350775, -73.82780644716412]\n",
      "['Bronx', 'Fieldston', 40.89543742690383, -73.90564259591682]\n",
      "['Bronx', 'Riverdale', 40.890834493891305, -73.9125854610857]\n",
      "['Bronx', 'Kingsbridge', 40.88168737120521, -73.90281798724604]\n",
      "['Manhattan', 'Marble Hill', 40.87655077879964, -73.91065965862981]\n",
      "['Bronx', 'Woodlawn', 40.89827261213805, -73.86731496814176]\n",
      "['Bronx', 'Norwood', 40.87722415599446, -73.8793907395681]\n",
      "['Bronx', 'Williamsbridge', 40.88103887819211, -73.85744642974207]\n",
      "['Bronx', 'Baychester', 40.866858107252696, -73.83579759808117]\n",
      "['Bronx', 'Pelham Parkway', 40.85741349808865, -73.85475564017999]\n",
      "['Bronx', 'City Island', 40.84724670491813, -73.78648845267413]\n",
      "['Bronx', 'Bedford Park', 40.870185164975325, -73.8855121841913]\n",
      "['Bronx', 'University Heights', 40.85572707719664, -73.9104159619131]\n",
      "['Bronx', 'Morris Heights', 40.84789792606271, -73.91967159119565]\n",
      "['Bronx', 'Fordham', 40.86099679638654, -73.89642655981623]\n",
      "['Bronx', 'East Tremont', 40.84269615786053, -73.88735617532338]\n",
      "['Bronx', 'West Farms', 40.83947505672653, -73.87774474910545]\n",
      "['Bronx', 'High  Bridge', 40.836623010706056, -73.9261020935813]\n",
      "['Bronx', 'Melrose', 40.819754370594936, -73.90942160757436]\n",
      "['Bronx', 'Mott Haven', 40.80623874935177, -73.91609987487575]\n",
      "['Bronx', 'Port Morris', 40.801663627756206, -73.91322139386135]\n",
      "['Bronx', 'Longwood', 40.81509904545822, -73.8957882009446]\n",
      "['Bronx', 'Hunts Point', 40.80972987938709, -73.88331505955291]\n",
      "['Bronx', 'Morrisania', 40.82359198585534, -73.90150648943059]\n",
      "['Bronx', 'Soundview', 40.821012197914015, -73.86574609554924]\n",
      "['Bronx', 'Clason Point', 40.80655112003589, -73.85414416189266]\n",
      "['Bronx', 'Throgs Neck', 40.81510925804005, -73.81635002158441]\n",
      "['Bronx', 'Country Club', 40.844245936947374, -73.8240992675385]\n",
      "['Bronx', 'Parkchester', 40.837937822267286, -73.85600310535783]\n",
      "['Bronx', 'Westchester Square', 40.8406194964327, -73.84219407604444]\n",
      "['Bronx', 'Van Nest', 40.84360847124718, -73.8662991807561]\n",
      "['Bronx', 'Morris Park', 40.847549063536334, -73.85040178030421]\n",
      "['Bronx', 'Belmont', 40.85727710073895, -73.88845196134804]\n",
      "['Bronx', 'Spuyten Duyvil', 40.88139497727086, -73.91719048210393]\n",
      "['Bronx', 'North Riverdale', 40.90854282950666, -73.90453054908927]\n",
      "['Bronx', 'Pelham Bay', 40.85064140940335, -73.8320737824047]\n",
      "['Bronx', 'Schuylerville', 40.82657951686922, -73.82620275994073]\n",
      "['Bronx', 'Edgewater Park', 40.821986118163494, -73.81388514428619]\n",
      "['Bronx', 'Castle Hill', 40.819014376988314, -73.84802729582735]\n",
      "['Bronx', 'Olinville', 40.87137078192371, -73.86332361652777]\n",
      "['Bronx', 'Pelham Gardens', 40.86296562477998, -73.84161194831223]\n",
      "['Bronx', 'Concourse', 40.83428380733851, -73.91558941773444]\n",
      "['Bronx', 'Unionport', 40.82977429787161, -73.85053524451935]\n",
      "['Bronx', 'Edenwald', 40.88456130303732, -73.84808271877168]\n",
      "['Brooklyn', 'Bay Ridge', 40.625801065010656, -74.03062069353813]\n",
      "['Brooklyn', 'Bensonhurst', 40.61100890202044, -73.99517998380729]\n",
      "['Brooklyn', 'Sunset Park', 40.64510294925429, -74.01031618527784]\n",
      "['Brooklyn', 'Greenpoint', 40.7302009848647, -73.95424093127393]\n",
      "['Brooklyn', 'Gravesend', 40.59526001306593, -73.97347087708445]\n",
      "['Brooklyn', 'Brighton Beach', 40.57682506566604, -73.96509448785336]\n",
      "['Brooklyn', 'Sheepshead Bay', 40.58689012678384, -73.94318640482979]\n",
      "['Brooklyn', 'Manhattan Terrace', 40.61443251335098, -73.95743840559939]\n",
      "['Brooklyn', 'Flatbush', 40.63632589026677, -73.95840106533903]\n",
      "['Brooklyn', 'Crown Heights', 40.67082917695294, -73.94329119073582]\n",
      "['Brooklyn', 'East Flatbush', 40.64171776668961, -73.93610256185836]\n",
      "['Brooklyn', 'Kensington', 40.642381958003526, -73.98042110559474]\n",
      "['Brooklyn', 'Windsor Terrace', 40.65694583575104, -73.98007340430172]\n",
      "['Brooklyn', 'Prospect Heights', 40.676822262254724, -73.9648592426269]\n",
      "['Brooklyn', 'Brownsville', 40.66394994339755, -73.91023536176607]\n",
      "['Brooklyn', 'Williamsburg', 40.70714439344251, -73.95811529220927]\n",
      "['Brooklyn', 'Bushwick', 40.69811611017901, -73.92525797487045]\n",
      "['Brooklyn', 'Bedford Stuyvesant', 40.687231607720456, -73.94178488690297]\n",
      "['Brooklyn', 'Brooklyn Heights', 40.695863722724084, -73.99378225496424]\n",
      "['Brooklyn', 'Cobble Hill', 40.687919722485574, -73.99856139218463]\n",
      "['Brooklyn', 'Carroll Gardens', 40.680540231076485, -73.99465372828006]\n",
      "['Brooklyn', 'Red Hook', 40.676253230250886, -74.0127589747356]\n",
      "['Brooklyn', 'Gowanus', 40.673931143187154, -73.99444087145339]\n",
      "['Brooklyn', 'Fort Greene', 40.68852726018977, -73.97290574369092]\n",
      "['Brooklyn', 'Park Slope', 40.67232052268197, -73.97705030183924]\n",
      "['Brooklyn', 'Cypress Hills', 40.68239101144211, -73.87661596457296]\n",
      "['Brooklyn', 'East New York', 40.669925700847045, -73.88069863917366]\n",
      "['Brooklyn', 'Starrett City', 40.64758905230874, -73.87936970045875]\n",
      "['Brooklyn', 'Canarsie', 40.63556432797428, -73.90209269778966]\n",
      "['Brooklyn', 'Flatlands', 40.630446043757466, -73.92911302644674]\n",
      "['Brooklyn', 'Mill Island', 40.606336421685626, -73.90818571777423]\n",
      "['Brooklyn', 'Manhattan Beach', 40.57791350308657, -73.94353722891886]\n",
      "['Brooklyn', 'Coney Island', 40.57429256471601, -73.98868295821637]\n",
      "['Brooklyn', 'Bath Beach', 40.59951870282238, -73.99875221443519]\n",
      "['Brooklyn', 'Borough Park', 40.633130512758015, -73.99049823044811]\n",
      "['Brooklyn', 'Dyker Heights', 40.619219457722636, -74.01931375636022]\n",
      "['Brooklyn', 'Gerritsen Beach', 40.590848433902046, -73.93010170691196]\n",
      "['Brooklyn', 'Marine Park', 40.609747779894604, -73.93134404108497]\n",
      "['Brooklyn', 'Clinton Hill', 40.693229421881504, -73.96784306216367]\n",
      "['Brooklyn', 'Sea Gate', 40.57637537890224, -74.0078731120024]\n",
      "['Brooklyn', 'Downtown', 40.69084402109802, -73.98346337431099]\n",
      "['Brooklyn', 'Boerum Hill', 40.685682912091444, -73.98374824115798]\n",
      "['Brooklyn', 'Prospect Lefferts Gardens', 40.658420017469815, -73.95489867077713]\n",
      "['Brooklyn', 'Ocean Hill', 40.678402554795355, -73.91306831787395]\n",
      "['Brooklyn', 'City Line', 40.67856995727479, -73.86797598081334]\n",
      "['Brooklyn', 'Bergen Beach', 40.61514955045308, -73.89855633630317]\n",
      "['Brooklyn', 'Midwood', 40.62559589869843, -73.95759523489838]\n",
      "['Brooklyn', 'Prospect Park South', 40.647008603185185, -73.96261316716048]\n",
      "['Brooklyn', 'Georgetown', 40.62384524478419, -73.91607483951324]\n",
      "['Brooklyn', 'East Williamsburg', 40.70849241041548, -73.93885815269195]\n",
      "['Brooklyn', 'North Side', 40.714822906532014, -73.95880857587582]\n",
      "['Brooklyn', 'South Side', 40.71086147265064, -73.95800095153331]\n",
      "['Brooklyn', 'Ocean Parkway', 40.61305976667942, -73.96836678035541]\n",
      "['Brooklyn', 'Fort Hamilton', 40.61476812694226, -74.03197914537984]\n",
      "['Manhattan', 'Chinatown', 40.71561842231432, -73.99427936255978]\n",
      "['Manhattan', 'Washington Heights', 40.85190252555305, -73.93690027985234]\n",
      "['Manhattan', 'Inwood', 40.86768396449915, -73.92121042203897]\n",
      "['Manhattan', 'Hamilton Heights', 40.823604284811935, -73.94968791883366]\n",
      "['Manhattan', 'Manhattanville', 40.8169344294978, -73.9573853935188]\n",
      "['Manhattan', 'Central Harlem', 40.81597606742414, -73.94321112603905]\n",
      "['Manhattan', 'East Harlem', 40.79224946663033, -73.94418223148524]\n",
      "['Manhattan', 'Upper East Side', 40.775638573301805, -73.96050763135]\n",
      "['Manhattan', 'Yorkville', 40.775929849884875, -73.94711784471826]\n",
      "['Manhattan', 'Lenox Hill', 40.76811265828733, -73.9588596881376]\n",
      "['Manhattan', 'Roosevelt Island', 40.76215960576283, -73.94916769227953]\n",
      "['Manhattan', 'Upper West Side', 40.787657998534854, -73.97705923630603]\n",
      "['Manhattan', 'Lincoln Square', 40.77352888942166, -73.98533777001262]\n",
      "['Manhattan', 'Clinton', 40.75910089146212, -73.99611936309479]\n",
      "['Manhattan', 'Midtown', 40.75469110270623, -73.98166882730304]\n",
      "['Manhattan', 'Murray Hill', 40.748303077252174, -73.97833207924127]\n",
      "['Manhattan', 'Chelsea', 40.744034706747975, -74.00311633472813]\n",
      "['Manhattan', 'Greenwich Village', 40.72693288536128, -73.99991402945902]\n",
      "['Manhattan', 'East Village', 40.727846777270244, -73.98222616506416]\n",
      "['Manhattan', 'Lower East Side', 40.71780674892765, -73.98089031999291]\n",
      "['Manhattan', 'Tribeca', 40.721521967443216, -74.01068328559087]\n",
      "['Manhattan', 'Little Italy', 40.71932379395907, -73.99730467208073]\n",
      "['Manhattan', 'Soho', 40.72218384131794, -74.00065666959759]\n",
      "['Manhattan', 'West Village', 40.73443393572434, -74.00617998126812]\n",
      "['Manhattan', 'Manhattan Valley', 40.797307041702865, -73.96428617740655]\n",
      "['Manhattan', 'Morningside Heights', 40.807999738165826, -73.96389627905332]\n",
      "['Manhattan', 'Gramercy', 40.737209832715, -73.98137594833541]\n",
      "['Manhattan', 'Battery Park City', 40.71193198394565, -74.01686930508617]\n",
      "['Manhattan', 'Financial District', 40.70710710727048, -74.0106654452127]\n",
      "['Queens', 'Astoria', 40.76850859335492, -73.91565374304234]\n",
      "['Queens', 'Woodside', 40.74634908860222, -73.90184166838284]\n",
      "['Queens', 'Jackson Heights', 40.75198138007367, -73.88282109164365]\n",
      "['Queens', 'Elmhurst', 40.744048505122024, -73.88165622288388]\n",
      "['Queens', 'Howard Beach', 40.65422527738487, -73.8381376460028]\n",
      "['Queens', 'Corona', 40.74238175015667, -73.85682497345258]\n",
      "['Queens', 'Forest Hills', 40.72526378216503, -73.84447500788983]\n",
      "['Queens', 'Kew Gardens', 40.7051790354148, -73.82981905825703]\n",
      "['Queens', 'Richmond Hill', 40.69794731471763, -73.83183321446887]\n",
      "['Queens', 'Flushing', 40.76445419697846, -73.83177300329582]\n",
      "['Queens', 'Long Island City', 40.75021734610528, -73.93920223915505]\n",
      "['Queens', 'Sunnyside', 40.74017628351924, -73.92691617561577]\n",
      "['Queens', 'East Elmhurst', 40.76407323883091, -73.86704147658772]\n",
      "['Queens', 'Maspeth', 40.725427374093606, -73.89621713626859]\n",
      "['Queens', 'Ridgewood', 40.70832315613858, -73.90143517559589]\n",
      "['Queens', 'Glendale', 40.70276242967838, -73.87074167435605]\n",
      "['Queens', 'Rego Park', 40.72897409480735, -73.8578268690537]\n",
      "['Queens', 'Woodhaven', 40.68988687915789, -73.8581104655432]\n",
      "['Queens', 'Ozone Park', 40.680708468265415, -73.84320266173447]\n",
      "['Queens', 'South Ozone Park', 40.66854957767195, -73.80986478649041]\n",
      "['Queens', 'College Point', 40.784902749260205, -73.84304528896125]\n",
      "['Queens', 'Whitestone', 40.78129076602694, -73.81420216610863]\n",
      "['Queens', 'Bayside', 40.76604063281064, -73.7742736306867]\n",
      "['Queens', 'Auburndale', 40.76172954903262, -73.79176243728061]\n",
      "['Queens', 'Little Neck', 40.7708261928267, -73.7388977558074]\n",
      "['Queens', 'Douglaston', 40.76684609790763, -73.7424982072733]\n",
      "['Queens', 'Glen Oaks', 40.74944079974332, -73.71548118999145]\n",
      "['Queens', 'Bellerose', 40.72857318176675, -73.72012814826903]\n",
      "['Queens', 'Kew Gardens Hills', 40.722578244228046, -73.82087764933566]\n",
      "['Queens', 'Fresh Meadows', 40.7343944653313, -73.78271337003264]\n",
      "['Queens', 'Briarwood', 40.71093547252271, -73.81174822458634]\n",
      "['Queens', 'Jamaica Center', 40.70465736068717, -73.79690165888289]\n",
      "['Queens', 'Oakland Gardens', 40.74561857141855, -73.75494976234332]\n",
      "['Queens', 'Queens Village', 40.718893092167356, -73.73871484578424]\n",
      "['Queens', 'Hollis', 40.71124344191904, -73.75925009335594]\n",
      "['Queens', 'South Jamaica', 40.696911253789885, -73.7904261313554]\n",
      "['Queens', 'St. Albans', 40.69444538522359, -73.75867603727717]\n",
      "['Queens', 'Rochdale', 40.67521139591733, -73.77258787620906]\n",
      "['Queens', 'Springfield Gardens', 40.666230490368584, -73.76042092682287]\n",
      "['Queens', 'Cambria Heights', 40.692774639160845, -73.73526873708026]\n",
      "['Queens', 'Rosedale', 40.659816433428084, -73.73526079428278]\n",
      "['Queens', 'Far Rockaway', 40.603134432500894, -73.75497968043872]\n",
      "['Queens', 'Broad Channel', 40.60302658351238, -73.8200548911032]\n",
      "['Queens', 'Breezy Point', 40.55740128845452, -73.92551196994168]\n",
      "['Queens', 'Steinway', 40.775923015642896, -73.90228960391673]\n",
      "['Queens', 'Beechhurst', 40.79278140360048, -73.80436451720988]\n",
      "['Queens', 'Bay Terrace', 40.782842806245554, -73.7768022262158]\n",
      "['Queens', 'Edgemere', 40.595641807368494, -73.77613282391705]\n",
      "['Queens', 'Arverne', 40.58914394372971, -73.79199233136943]\n",
      "['Queens', 'Rockaway Beach', 40.582801696845586, -73.82236121088751]\n",
      "['Queens', 'Neponsit', 40.572036730217015, -73.85754672410827]\n",
      "['Queens', 'Murray Hill', 40.764126122614066, -73.81276269135866]\n",
      "['Queens', 'Floral Park', 40.741378421945434, -73.70884705889246]\n",
      "['Queens', 'Holliswood', 40.7209572076444, -73.76714166714729]\n",
      "['Queens', 'Jamaica Estates', 40.71680483014613, -73.7872269693666]\n",
      "['Queens', 'Queensboro Hill', 40.7445723092867, -73.82580915110559]\n",
      "['Queens', 'Hillcrest', 40.723824901829204, -73.79760300912672]\n",
      "['Queens', 'Ravenswood', 40.761704526054146, -73.93157506072878]\n",
      "['Queens', 'Lindenwood', 40.66391841925139, -73.84963782402441]\n",
      "['Queens', 'Laurelton', 40.66788389660247, -73.74025607989822]\n",
      "['Queens', 'Lefrak City', 40.736074570830795, -73.8625247141374]\n",
      "['Queens', 'Belle Harbor', 40.57615556543109, -73.8540175039252]\n",
      "['Queens', 'Rockaway Park', 40.58034295646131, -73.84153370226186]\n",
      "['Queens', 'Somerville', 40.59771061565768, -73.79664750844047]\n",
      "['Queens', 'Brookville', 40.66000322733613, -73.75175310731153]\n",
      "['Queens', 'Bellaire', 40.73301404027834, -73.73889198912481]\n",
      "['Queens', 'North Corona', 40.7540709990489, -73.85751790676447]\n",
      "['Queens', 'Forest Hills Gardens', 40.7146110815117, -73.8410221123401]\n",
      "['Staten Island', 'St. George', 40.6449815710044, -74.07935312512797]\n",
      "['Staten Island', 'New Brighton', 40.64061455913511, -74.08701650516625]\n",
      "['Staten Island', 'Stapleton', 40.62692762538176, -74.07790192660066]\n",
      "['Staten Island', 'Rosebank', 40.61530494652761, -74.06980526716141]\n",
      "['Staten Island', 'West Brighton', 40.63187892654607, -74.1071817826561]\n",
      "['Staten Island', 'Grymes Hill', 40.624184791313006, -74.08724819983729]\n",
      "['Staten Island', 'Todt Hill', 40.59706851814673, -74.1113288180088]\n",
      "['Staten Island', 'South Beach', 40.58024741350956, -74.0795529253982]\n",
      "['Staten Island', 'Port Richmond', 40.63366930554365, -74.12943426797008]\n",
      "['Staten Island', \"Mariner's Harbor\", 40.632546390481124, -74.15008537046981]\n",
      "['Staten Island', 'Port Ivory', 40.63968297845542, -74.17464532993542]\n",
      "['Staten Island', 'Castleton Corners', 40.61333593766742, -74.11918058534842]\n",
      "['Staten Island', 'New Springville', 40.594252379161695, -74.16496031329827]\n",
      "['Staten Island', 'Travis', 40.58631375103281, -74.19073717538116]\n",
      "['Staten Island', 'New Dorp', 40.57257231820632, -74.1164794360638]\n",
      "['Staten Island', 'Oakwood', 40.5584622432888, -74.12156593771896]\n",
      "['Staten Island', 'Great Kills', 40.549480228713605, -74.14932381490992]\n",
      "['Staten Island', 'Eltingville', 40.542230747450745, -74.1643308041936]\n",
      "['Staten Island', 'Annadale', 40.53811417474507, -74.17854866165878]\n",
      "['Staten Island', 'Woodrow', 40.541967622888755, -74.20524582480326]\n",
      "['Staten Island', 'Tottenville', 40.50533376115642, -74.24656934235283]\n",
      "['Staten Island', 'Tompkinsville', 40.637316067110326, -74.08055351790115]\n",
      "['Staten Island', 'Silver Lake', 40.61919310792676, -74.09629029235458]\n",
      "['Staten Island', 'Sunnyside', 40.61276015756489, -74.0971255217853]\n",
      "['Brooklyn', 'Ditmas Park', 40.643675183340974, -73.96101312466779]\n",
      "['Brooklyn', 'Wingate', 40.66094656188111, -73.93718680559314]\n",
      "['Brooklyn', 'Rugby', 40.655572313280764, -73.92688212616955]\n",
      "['Staten Island', 'Park Hill', 40.60919044434558, -74.08015734936296]\n",
      "['Staten Island', 'Westerleigh', 40.62109047275409, -74.13304143951704]\n",
      "['Staten Island', 'Graniteville', 40.620171512231884, -74.15315246387762]\n",
      "['Staten Island', 'Arlington', 40.63532509911492, -74.16510420241124]\n",
      "['Staten Island', 'Arrochar', 40.596312571276734, -74.06712363225574]\n",
      "['Staten Island', 'Grasmere', 40.59826835959991, -74.0766743627905]\n",
      "['Staten Island', 'Old Town', 40.59632891379513, -74.08751118005578]\n",
      "['Staten Island', 'Dongan Hills', 40.588672948199275, -74.09639905312521]\n",
      "['Staten Island', 'Midland Beach', 40.57352690574283, -74.09348266303591]\n",
      "['Staten Island', 'Grant City', 40.57621558711788, -74.10585598545434]\n",
      "['Staten Island', 'New Dorp Beach', 40.56425549307335, -74.10432707469124]\n",
      "['Staten Island', 'Bay Terrace', 40.55398800858462, -74.13916622175768]\n",
      "['Staten Island', 'Huguenot', 40.531911920489605, -74.19174105747814]\n",
      "['Staten Island', 'Pleasant Plains', 40.524699376118136, -74.21983106616777]\n",
      "['Staten Island', 'Butler Manor', 40.50608165346305, -74.22950350260027]\n",
      "['Staten Island', 'Charleston', 40.53053148283314, -74.23215775896526]\n",
      "['Staten Island', 'Rossville', 40.54940400650072, -74.21572851113952]\n",
      "['Staten Island', 'Arden Heights', 40.54928582278321, -74.18588674583893]\n",
      "['Staten Island', 'Greenridge', 40.555295236173194, -74.17079414786092]\n",
      "['Staten Island', 'Heartland Village', 40.58913894875281, -74.15902208156601]\n",
      "['Staten Island', 'Chelsea', 40.59472602746295, -74.1895604551969]\n",
      "['Staten Island', 'Bloomfield', 40.60577868452358, -74.18725638381567]\n",
      "['Staten Island', 'Bulls Head', 40.6095918004203, -74.15940948657122]\n",
      "['Manhattan', 'Carnegie Hill', 40.7826825671257, -73.95325646837112]\n",
      "['Manhattan', 'Noho', 40.72325901885768, -73.98843368023597]\n",
      "['Manhattan', 'Civic Center', 40.71522892046282, -74.00541529873355]\n",
      "['Manhattan', 'Midtown South', 40.7485096643122, -73.98871313285247]\n",
      "['Staten Island', 'Richmond Town', 40.56960594275505, -74.1340572986257]\n",
      "['Staten Island', 'Shore Acres', 40.60971934079284, -74.06667766061771]\n",
      "['Staten Island', 'Clifton', 40.61917845202843, -74.072642445484]\n",
      "['Staten Island', 'Concord', 40.6044731896879, -74.08402364740358]\n",
      "['Staten Island', 'Emerson Hill', 40.606794394801, -74.09776206972522]\n",
      "['Staten Island', 'Randall Manor', 40.63563000681151, -74.09805062373887]\n",
      "['Staten Island', 'Howland Hook', 40.63843283794795, -74.18622331749823]\n",
      "['Staten Island', 'Elm Park', 40.630146741193826, -74.1418167896889]\n",
      "['Brooklyn', 'Remsen Village', 40.652117451793494, -73.91665331978048]\n",
      "['Brooklyn', 'New Lots', 40.6627442796966, -73.88511776379292]\n",
      "['Brooklyn', 'Paerdegat Basin', 40.63131755039667, -73.90233474295836]\n",
      "['Brooklyn', 'Mill Basin', 40.61597423962336, -73.91515391550404]\n",
      "['Queens', 'Jamaica Hills', 40.71145964370482, -73.79646462081593]\n",
      "['Queens', 'Utopia', 40.73350025429757, -73.79671678028349]\n",
      "['Queens', 'Pomonok', 40.73493618075478, -73.80486120040537]\n",
      "['Queens', 'Astoria Heights', 40.7703173929982, -73.89467996270574]\n",
      "['Bronx', 'Claremont Village', 40.83142834161548, -73.90119903387667]\n",
      "['Bronx', 'Concourse Village', 40.824780490842905, -73.91584652759009]\n",
      "['Bronx', 'Mount Eden', 40.84382617671654, -73.91655551964419]\n",
      "['Bronx', 'Mount Hope', 40.84884160724665, -73.90829930881988]\n",
      "['Manhattan', 'Sutton Place', 40.76028033131374, -73.96355614094303]\n",
      "['Queens', 'Hunters Point', 40.743414090073536, -73.95386782130745]\n",
      "['Manhattan', 'Turtle Bay', 40.75204236950722, -73.96770824581834]\n",
      "['Manhattan', 'Tudor City', 40.746917410740195, -73.97121928722265]\n",
      "['Manhattan', 'Stuyvesant Town', 40.73099955477061, -73.97405170469203]\n",
      "['Manhattan', 'Flatiron', 40.739673047638426, -73.9909471052826]\n",
      "['Queens', 'Sunnyside Gardens', 40.74565180608076, -73.91819286431682]\n",
      "['Queens', 'Blissville', 40.73725071694497, -73.93244235260178]\n",
      "['Brooklyn', 'Fulton Ferry', 40.70328109093014, -73.99550751888415]\n",
      "['Brooklyn', 'Vinegar Hill', 40.70332149882874, -73.98111603592393]\n",
      "['Brooklyn', 'Weeksville', 40.67503986503237, -73.93053108817338]\n",
      "['Brooklyn', 'Broadway Junction', 40.67786104769531, -73.90331684852599]\n",
      "['Brooklyn', 'Dumbo', 40.70317632822692, -73.9887528074504]\n",
      "['Staten Island', 'Manor Heights', 40.60180957631444, -74.12059399718001]\n",
      "['Staten Island', 'Willowbrook', 40.60370692627371, -74.13208447484298]\n",
      "['Staten Island', 'Sandy Ground', 40.541139922091766, -74.21776636068567]\n",
      "['Staten Island', 'Egbertville', 40.579118742961214, -74.12727240604946]\n",
      "['Queens', 'Roxbury', 40.56737588957032, -73.89213760232822]\n",
      "['Brooklyn', 'Homecrest', 40.598525095137255, -73.95918459428702]\n",
      "['Queens', 'Middle Village', 40.716414511158185, -73.88114319200604]\n",
      "['Staten Island', \"Prince's Bay\", 40.52626406734812, -74.20152556457658]\n",
      "['Staten Island', 'Lighthouse Hill', 40.57650629379489, -74.13792663771568]\n",
      "['Staten Island', 'Richmond Valley', 40.51954145748909, -74.22957080626941]\n",
      "['Queens', 'Malba', 40.79060155670148, -73.82667757138641]\n",
      "['Brooklyn', 'Highland Park', 40.6819989345173, -73.890345709872]\n",
      "['Brooklyn', 'Madison', 40.60937770113766, -73.94841515328893]\n",
      "['Bronx', 'Bronxdale', 40.85272297633017, -73.86172577555115]\n",
      "['Bronx', 'Allerton', 40.86578787802982, -73.85931863221647]\n",
      "['Bronx', 'Kingsbridge Heights', 40.8703923914147, -73.90152264513144]\n",
      "['Brooklyn', 'Erasmus', 40.64692606658579, -73.94817709920184]\n",
      "['Manhattan', 'Hudson Yards', 40.75665808227519, -74.00011136202637]\n",
      "['Queens', 'Hammels', 40.58733774018741, -73.80553002968718]\n",
      "['Queens', 'Bayswater', 40.611321691283834, -73.76596781445627]\n",
      "['Queens', 'Queensbridge', 40.756091297094706, -73.94563070334091]\n",
      "['Staten Island', 'Fox Hills', 40.61731079252983, -74.08173992211962]\n"
     ]
    }
   ],
   "source": [
    "for row in df_ny.values.tolist():\n",
    "    print(row)"
   ]
  },
  {
   "cell_type": "code",
   "execution_count": 43,
   "metadata": {},
   "outputs": [
    {
     "name": "stdout",
     "output_type": "stream",
     "text": [
      "Indian restaurants in\n",
      "---------------------\n",
      "Woodlawn, Bronx : 1\n",
      "Parkchester, Bronx : 1\n",
      "Spuyten Duyvil, Bronx : 1\n",
      "Concourse, Bronx : 1\n",
      "Unionport, Bronx : 1\n",
      "Bay Ridge, Brooklyn : 1\n",
      "Brighton Beach, Brooklyn : 1\n",
      "Flatbush, Brooklyn : 2\n",
      "East Flatbush, Brooklyn : 1\n",
      "Kensington, Brooklyn : 2\n",
      "Gowanus, Brooklyn : 1\n",
      "Fort Greene, Brooklyn : 1\n",
      "Clinton Hill, Brooklyn : 1\n",
      "Prospect Lefferts Gardens, Brooklyn : 1\n",
      "Ocean Hill, Brooklyn : 2\n",
      "Prospect Park South, Brooklyn : 3\n",
      "North Side, Brooklyn : 1\n",
      "South Side, Brooklyn : 1\n",
      "Washington Heights, Manhattan : 1\n",
      "Hamilton Heights, Manhattan : 2\n",
      "Manhattanville, Manhattan : 2\n",
      "Central Harlem, Manhattan : 2\n",
      "East Harlem, Manhattan : 1\n",
      "Yorkville, Manhattan : 1\n",
      "Roosevelt Island, Manhattan : 1\n",
      "Upper West Side, Manhattan : 3\n",
      "Midtown, Manhattan : 1\n",
      "Murray Hill, Manhattan : 1\n",
      "Greenwich Village, Manhattan : 1\n",
      "Tribeca, Manhattan : 1\n",
      "West Village, Manhattan : 2\n",
      "Manhattan Valley, Manhattan : 5\n",
      "Morningside Heights, Manhattan : 2\n",
      "Gramercy, Manhattan : 3\n",
      "Financial District, Manhattan : 1\n",
      "Astoria, Queens : 1\n",
      "Woodside, Queens : 7\n",
      "Jackson Heights, Queens : 5\n",
      "Elmhurst, Queens : 2\n",
      "Kew Gardens, Queens : 2\n",
      "Richmond Hill, Queens : 7\n",
      "Long Island City, Queens : 3\n",
      "Sunnyside, Queens : 1\n",
      "Ridgewood, Queens : 1\n",
      "Rego Park, Queens : 1\n",
      "Ozone Park, Queens : 1\n",
      "South Ozone Park, Queens : 1\n",
      "Bayside, Queens : 3\n",
      "Glen Oaks, Queens : 4\n",
      "Kew Gardens Hills, Queens : 1\n",
      "Briarwood, Queens : 3\n",
      "Jamaica Center, Queens : 3\n",
      "Steinway, Queens : 1\n",
      "Floral Park, Queens : 10\n",
      "Holliswood, Queens : 1\n",
      "Jamaica Estates, Queens : 2\n",
      "Queensboro Hill, Queens : 1\n",
      "Ravenswood, Queens : 1\n",
      "Bellaire, Queens : 1\n",
      "New Brighton, Staten Island : 1\n",
      "New Dorp, Staten Island : 1\n",
      "Tompkinsville, Staten Island : 1\n",
      "Sunnyside, Staten Island : 1\n",
      "Ditmas Park, Brooklyn : 4\n",
      "Grant City, Staten Island : 1\n",
      "Carnegie Hill, Manhattan : 2\n",
      "Civic Center, Manhattan : 1\n",
      "Midtown South, Manhattan : 2\n",
      "Concord, Staten Island : 1\n",
      "Emerson Hill, Staten Island : 1\n",
      "Jamaica Hills, Queens : 4\n",
      "Astoria Heights, Queens : 1\n",
      "Concourse Village, Bronx : 1\n",
      "Sutton Place, Manhattan : 3\n",
      "Turtle Bay, Manhattan : 3\n",
      "Tudor City, Manhattan : 2\n",
      "Sunnyside Gardens, Queens : 1\n",
      "Blissville, Queens : 1\n",
      "Broadway Junction, Brooklyn : 1\n",
      "Erasmus, Brooklyn : 2\n",
      "Queensbridge, Queens : 2\n",
      "Completed constructing the Indian cuisine restaurants data set\n"
     ]
    }
   ],
   "source": [
    "# prepare neighborhood list that contains indian resturants\n",
    "column_names=['Borough', 'Neighborhood', 'ID','Name']\n",
    "indian_rest_ny=pd.DataFrame(columns=column_names)\n",
    "\n",
    "print('Indian restaurants in\\n---------------------')\n",
    "       \n",
    "for row in df_ny.values.tolist():\n",
    "    Borough, Neighborhood, Latitude, Longitude=row\n",
    "    venues = get_venues(Latitude,Longitude)\n",
    "    indian_resturants=venues[venues['Category']=='Indian Restaurant']\n",
    "    if len(indian_resturants) > 0:\n",
    "        print(Neighborhood+', '+Borough+' : '+str(len(indian_resturants)))\n",
    "    for resturant_detail in indian_resturants.values.tolist():\n",
    "        id, name , category=resturant_detail\n",
    "        indian_rest_ny = indian_rest_ny.append({'Borough': Borough,\n",
    "                                                'Neighborhood': Neighborhood, \n",
    "                                                'ID': id,\n",
    "                                                'Name' : name\n",
    "                                               }, ignore_index=True)\n",
    "\n",
    "print('Completed constructing the Indian cuisine restaurants data set')"
   ]
  },
  {
   "cell_type": "code",
   "execution_count": 44,
   "metadata": {},
   "outputs": [
    {
     "data": {
      "text/html": [
       "<div>\n",
       "<style scoped>\n",
       "    .dataframe tbody tr th:only-of-type {\n",
       "        vertical-align: middle;\n",
       "    }\n",
       "\n",
       "    .dataframe tbody tr th {\n",
       "        vertical-align: top;\n",
       "    }\n",
       "\n",
       "    .dataframe thead th {\n",
       "        text-align: right;\n",
       "    }\n",
       "</style>\n",
       "<table border=\"1\" class=\"dataframe\">\n",
       "  <thead>\n",
       "    <tr style=\"text-align: right;\">\n",
       "      <th></th>\n",
       "      <th>Borough</th>\n",
       "      <th>Neighborhood</th>\n",
       "      <th>ID</th>\n",
       "      <th>Name</th>\n",
       "    </tr>\n",
       "  </thead>\n",
       "  <tbody>\n",
       "    <tr>\n",
       "      <th>0</th>\n",
       "      <td>Bronx</td>\n",
       "      <td>Woodlawn</td>\n",
       "      <td>4c0448d9310fc9b6bf1dc761</td>\n",
       "      <td>Curry Spot</td>\n",
       "    </tr>\n",
       "    <tr>\n",
       "      <th>1</th>\n",
       "      <td>Bronx</td>\n",
       "      <td>Parkchester</td>\n",
       "      <td>4c194631838020a13e78e561</td>\n",
       "      <td>Melanies Roti Bar And Grill</td>\n",
       "    </tr>\n",
       "    <tr>\n",
       "      <th>2</th>\n",
       "      <td>Bronx</td>\n",
       "      <td>Spuyten Duyvil</td>\n",
       "      <td>4c04544df423a593ac83d116</td>\n",
       "      <td>Cumin Indian Cuisine</td>\n",
       "    </tr>\n",
       "    <tr>\n",
       "      <th>3</th>\n",
       "      <td>Bronx</td>\n",
       "      <td>Concourse</td>\n",
       "      <td>551b7f75498e86c00a0ed2e1</td>\n",
       "      <td>Hungry Bird</td>\n",
       "    </tr>\n",
       "    <tr>\n",
       "      <th>4</th>\n",
       "      <td>Bronx</td>\n",
       "      <td>Unionport</td>\n",
       "      <td>4c194631838020a13e78e561</td>\n",
       "      <td>Melanies Roti Bar And Grill</td>\n",
       "    </tr>\n",
       "  </tbody>\n",
       "</table>\n",
       "</div>"
      ],
      "text/plain": [
       "  Borough    Neighborhood                        ID  \\\n",
       "0   Bronx        Woodlawn  4c0448d9310fc9b6bf1dc761   \n",
       "1   Bronx     Parkchester  4c194631838020a13e78e561   \n",
       "2   Bronx  Spuyten Duyvil  4c04544df423a593ac83d116   \n",
       "3   Bronx       Concourse  551b7f75498e86c00a0ed2e1   \n",
       "4   Bronx       Unionport  4c194631838020a13e78e561   \n",
       "\n",
       "                          Name  \n",
       "0                   Curry Spot  \n",
       "1  Melanies Roti Bar And Grill  \n",
       "2         Cumin Indian Cuisine  \n",
       "3                  Hungry Bird  \n",
       "4  Melanies Roti Bar And Grill  "
      ]
     },
     "execution_count": 44,
     "metadata": {},
     "output_type": "execute_result"
    }
   ],
   "source": [
    "indian_rest_ny.head()"
   ]
  },
  {
   "cell_type": "code",
   "execution_count": 45,
   "metadata": {},
   "outputs": [
    {
     "data": {
      "text/plain": [
       "(153, 4)"
      ]
     },
     "execution_count": 45,
     "metadata": {},
     "output_type": "execute_result"
    }
   ],
   "source": [
    "indian_rest_ny.shape"
   ]
  },
  {
   "cell_type": "markdown",
   "metadata": {},
   "source": [
    "Using a bar chart visualize the number of restaurants which serves Indian cuisine for each and every borough in New York city."
   ]
  },
  {
   "cell_type": "code",
   "execution_count": 46,
   "metadata": {},
   "outputs": [
    {
     "data": {
      "image/png": "[encoded data removed]",
      "text/plain": [
       "<Figure size 540x540 with 1 Axes>"
      ]
     },
     "metadata": {
      "needs_background": "light"
     },
     "output_type": "display_data"
    }
   ],
   "source": [
    "plt.figure(figsize=(6,6), dpi = 90)\n",
    "# title\n",
    "plt.title('Number of Indian Resturants for each Borough in New York City')\n",
    "#On x-axis\n",
    "plt.xlabel('Borough', fontsize = 15)\n",
    "#On y-axis\n",
    "plt.ylabel('No.of Indian Resturants', fontsize=15)\n",
    "#giving a bar plot\n",
    "indian_rest_ny.groupby('Borough')['ID'].count().plot(kind='bar', color='#12EA92')\n",
    "#legend\n",
    "plt.legend()\n",
    "#displays the plot\n",
    "plt.show()"
   ]
  },
  {
   "cell_type": "markdown",
   "metadata": {},
   "source": [
    "Do visualize the same for Top 15 neighborhoods based on the number of Indian cuisine restaurants in New York city."
   ]
  },
  {
   "cell_type": "code",
   "execution_count": 47,
   "metadata": {},
   "outputs": [
    {
     "data": {
      "image/png": "[encoded data removed]",
      "text/plain": [
       "<Figure size 630x540 with 1 Axes>"
      ]
     },
     "metadata": {
      "needs_background": "light"
     },
     "output_type": "display_data"
    }
   ],
   "source": [
    "plt.figure(figsize=(7,6), dpi = 90)\n",
    "# title\n",
    "plt.title('Top 15 Neighborhoods based on the number of restaurants which serves Indian cuisine')\n",
    "#On x-axis\n",
    "plt.xlabel('Neighborhood', fontsize = 15)\n",
    "#On y-axis\n",
    "plt.ylabel('No.of Indian Resturants', fontsize=15)\n",
    "#giving a bar plot\n",
    "indian_rest_ny.groupby('Neighborhood')['ID'].count().nlargest(10).plot(kind='bar', color='#12EA92')\n",
    "#legend\n",
    "plt.legend()\n",
    "#displays the plot\n",
    "plt.show()"
   ]
  },
  {
   "cell_type": "markdown",
   "metadata": {},
   "source": [
    "Seems that Floral Park has the highest number of Indian restaurant in New York city."
   ]
  },
  {
   "cell_type": "code",
   "execution_count": 48,
   "metadata": {},
   "outputs": [
    {
     "data": {
      "text/html": [
       "<div>\n",
       "<style scoped>\n",
       "    .dataframe tbody tr th:only-of-type {\n",
       "        vertical-align: middle;\n",
       "    }\n",
       "\n",
       "    .dataframe tbody tr th {\n",
       "        vertical-align: top;\n",
       "    }\n",
       "\n",
       "    .dataframe thead th {\n",
       "        text-align: right;\n",
       "    }\n",
       "</style>\n",
       "<table border=\"1\" class=\"dataframe\">\n",
       "  <thead>\n",
       "    <tr style=\"text-align: right;\">\n",
       "      <th></th>\n",
       "      <th>Borough</th>\n",
       "      <th>Neighborhood</th>\n",
       "      <th>ID</th>\n",
       "      <th>Name</th>\n",
       "    </tr>\n",
       "  </thead>\n",
       "  <tbody>\n",
       "    <tr>\n",
       "      <th>100</th>\n",
       "      <td>Queens</td>\n",
       "      <td>Floral Park</td>\n",
       "      <td>527ffc0811d2d329d5e49abd</td>\n",
       "      <td>Jackson Diner</td>\n",
       "    </tr>\n",
       "    <tr>\n",
       "      <th>101</th>\n",
       "      <td>Queens</td>\n",
       "      <td>Floral Park</td>\n",
       "      <td>4e4e3e22bd4101d0d7a5c2d1</td>\n",
       "      <td>Kerala Kitchen</td>\n",
       "    </tr>\n",
       "    <tr>\n",
       "      <th>102</th>\n",
       "      <td>Queens</td>\n",
       "      <td>Floral Park</td>\n",
       "      <td>4b647b56f964a520c4b62ae3</td>\n",
       "      <td>Usha Foods &amp; Usha Sweets</td>\n",
       "    </tr>\n",
       "    <tr>\n",
       "      <th>103</th>\n",
       "      <td>Queens</td>\n",
       "      <td>Floral Park</td>\n",
       "      <td>4b787c49f964a5209cd12ee3</td>\n",
       "      <td>Santoor Indian Restaurant</td>\n",
       "    </tr>\n",
       "    <tr>\n",
       "      <th>104</th>\n",
       "      <td>Queens</td>\n",
       "      <td>Floral Park</td>\n",
       "      <td>4c0c01e0bbc676b00d6b4cd5</td>\n",
       "      <td>Mumbai Xpress</td>\n",
       "    </tr>\n",
       "    <tr>\n",
       "      <th>105</th>\n",
       "      <td>Queens</td>\n",
       "      <td>Floral Park</td>\n",
       "      <td>4c76ff35a5676dcb72671721</td>\n",
       "      <td>Flavor Of India</td>\n",
       "    </tr>\n",
       "    <tr>\n",
       "      <th>106</th>\n",
       "      <td>Queens</td>\n",
       "      <td>Floral Park</td>\n",
       "      <td>4df0f39dd4c04d0392c853ea</td>\n",
       "      <td>Sagar Chinese</td>\n",
       "    </tr>\n",
       "    <tr>\n",
       "      <th>107</th>\n",
       "      <td>Queens</td>\n",
       "      <td>Floral Park</td>\n",
       "      <td>571af96a498e9e392d8d3786</td>\n",
       "      <td>Namaste Authenic Indian Cuisine</td>\n",
       "    </tr>\n",
       "    <tr>\n",
       "      <th>108</th>\n",
       "      <td>Queens</td>\n",
       "      <td>Floral Park</td>\n",
       "      <td>55d68c1b498ecf05fa196fe1</td>\n",
       "      <td>Namaste Restaurant and Cafe</td>\n",
       "    </tr>\n",
       "    <tr>\n",
       "      <th>109</th>\n",
       "      <td>Queens</td>\n",
       "      <td>Floral Park</td>\n",
       "      <td>4e6bfe1c7d8b2c711b17bbe5</td>\n",
       "      <td>Surya sweets and snacks</td>\n",
       "    </tr>\n",
       "  </tbody>\n",
       "</table>\n",
       "</div>"
      ],
      "text/plain": [
       "    Borough Neighborhood                        ID  \\\n",
       "100  Queens  Floral Park  527ffc0811d2d329d5e49abd   \n",
       "101  Queens  Floral Park  4e4e3e22bd4101d0d7a5c2d1   \n",
       "102  Queens  Floral Park  4b647b56f964a520c4b62ae3   \n",
       "103  Queens  Floral Park  4b787c49f964a5209cd12ee3   \n",
       "104  Queens  Floral Park  4c0c01e0bbc676b00d6b4cd5   \n",
       "105  Queens  Floral Park  4c76ff35a5676dcb72671721   \n",
       "106  Queens  Floral Park  4df0f39dd4c04d0392c853ea   \n",
       "107  Queens  Floral Park  571af96a498e9e392d8d3786   \n",
       "108  Queens  Floral Park  55d68c1b498ecf05fa196fe1   \n",
       "109  Queens  Floral Park  4e6bfe1c7d8b2c711b17bbe5   \n",
       "\n",
       "                                Name  \n",
       "100                    Jackson Diner  \n",
       "101                   Kerala Kitchen  \n",
       "102         Usha Foods & Usha Sweets  \n",
       "103        Santoor Indian Restaurant  \n",
       "104                    Mumbai Xpress  \n",
       "105                  Flavor Of India  \n",
       "106                    Sagar Chinese  \n",
       "107  Namaste Authenic Indian Cuisine  \n",
       "108      Namaste Restaurant and Cafe  \n",
       "109          Surya sweets and snacks  "
      ]
     },
     "execution_count": 48,
     "metadata": {},
     "output_type": "execute_result"
    }
   ],
   "source": [
    "indian_rest_ny[indian_rest_ny['Neighborhood']=='Floral Park']"
   ]
  },
  {
   "cell_type": "markdown",
   "metadata": {},
   "source": [
    "Acquire the detail about all the restaurants from the Foursquare API"
   ]
  },
  {
   "cell_type": "code",
   "execution_count": 54,
   "metadata": {},
   "outputs": [
    {
     "name": "stdout",
     "output_type": "stream",
     "text": [
      "                         ID        Name  Likes  Rating  Tips\n",
      "0  4c0448d9310fc9b6bf1dc761  Curry Spot      5     7.9    11\n",
      "( 1 / 153 ) processed\n",
      "                         ID                         Name  Likes  Rating  Tips\n",
      "0  4c194631838020a13e78e561  Melanies Roti Bar And Grill      3     6.1     2\n",
      "( 2 / 153 ) processed\n",
      "                         ID                  Name  Likes  Rating  Tips\n",
      "0  4c04544df423a593ac83d116  Cumin Indian Cuisine     13     5.8     9\n",
      "( 3 / 153 ) processed\n",
      "                         ID         Name  Likes  Rating  Tips\n",
      "0  551b7f75498e86c00a0ed2e1  Hungry Bird      8     7.1     3\n",
      "( 4 / 153 ) processed\n",
      "                         ID                         Name  Likes  Rating  Tips\n",
      "0  4c194631838020a13e78e561  Melanies Roti Bar And Grill      3     6.1     2\n",
      "( 5 / 153 ) processed\n",
      "                         ID       Name  Likes  Rating  Tips\n",
      "0  4b5a4dc8f964a520a2bb28e3  Taj Mahal     38     8.2    26\n",
      "( 6 / 153 ) processed\n",
      "                         ID          Name  Likes  Rating  Tips\n",
      "0  4af0d31bf964a5207ddf21e3  Pak Nasheman      9     7.5     4\n",
      "( 7 / 153 ) processed\n",
      "                         ID          Name  Likes  Rating  Tips\n",
      "0  52213c4211d295d4c57a607c  Ashoka Grill      8     7.1    14\n",
      "( 8 / 153 ) processed\n",
      "                         ID                Name  Likes  Rating  Tips\n",
      "0  564d283d498e6e851df79d87  Great Indian Curry      3     7.0     2\n",
      "( 9 / 153 ) processed\n",
      "                         ID          Name  Likes  Rating  Tips\n",
      "0  512a9ea9e4b004fb8eeb84e5  Silver Krust     12     8.2     3\n",
      "( 10 / 153 ) processed\n",
      "                         ID       Name  Likes  Rating  Tips\n",
      "0  4db0f4371e729fcc56497f20  Mashallah     19     7.6     7\n",
      "( 11 / 153 ) processed\n",
      "                         ID                          Name  Likes  Rating  Tips\n",
      "0  4b718914f964a520c04b2de3  Madina Restaurant and Sweets     17     7.0    12\n",
      "( 12 / 153 ) processed\n",
      "                         ID                       Name  Likes  Rating  Tips\n",
      "0  52f18573498ec2c34e830ffd  Kanan's Indian Restaurant     23     7.7     8\n",
      "( 13 / 153 ) processed\n",
      "                         ID         Name  Likes  Rating  Tips\n",
      "0  57596dad498e732300496b23  Dosa Royale     74     8.6    22\n",
      "( 14 / 153 ) processed\n",
      "                         ID         Name  Likes  Rating  Tips\n",
      "0  57596dad498e732300496b23  Dosa Royale     74     8.6    22\n",
      "( 15 / 153 ) processed\n",
      "                         ID                        Name  Likes  Rating  Tips\n",
      "0  4bb93b70cf2fc9b6fe64a002  Gandhi Fine Indian Cuisine     81     8.3    47\n",
      "( 16 / 153 ) processed\n",
      "                         ID           Name  Likes  Rating  Tips\n",
      "0  4f6cae2ee4b0d4a5afcef5c0  Delhi Heights     22     8.2     8\n",
      "( 17 / 153 ) processed\n",
      "                         ID             Name  Likes  Rating  Tips\n",
      "0  5539753f498edbace4746b67  Tandoori Masala     12     7.7     2\n",
      "( 18 / 153 ) processed\n",
      "                         ID                     Name  Likes  Rating  Tips\n",
      "0  519ff6c8498e1300ddcbd45c  Anarkali Indian Cuisine     14     7.6     8\n",
      "( 19 / 153 ) processed\n",
      "                         ID       Name  Likes  Rating  Tips\n",
      "0  4db0f4371e729fcc56497f20  Mashallah     19     7.6     7\n",
      "( 20 / 153 ) processed\n",
      "                         ID                          Name  Likes  Rating  Tips\n",
      "0  4b718914f964a520c04b2de3  Madina Restaurant and Sweets     17     7.0    12\n",
      "( 21 / 153 ) processed\n",
      "                         ID                Name  Likes  Rating  Tips\n",
      "0  5631511b498e3d6d7e0a4df0  Tikka Indian Grill     95     8.4    28\n",
      "( 22 / 153 ) processed\n",
      "                         ID                Name  Likes  Rating  Tips\n",
      "0  5631511b498e3d6d7e0a4df0  Tikka Indian Grill     95     8.4    28\n",
      "( 23 / 153 ) processed\n",
      "                         ID                      Name  Likes  Rating  Tips\n",
      "0  4ae7876ef964a5201eac21e3  Kismat Indian Restaurant     45     7.8    25\n",
      "( 24 / 153 ) processed\n",
      "                         ID                           Name  Likes  Rating  \\\n",
      "0  54c2bd96498eaf5142e3fe92  Clove Indian Restaurant & Bar     30     7.6   \n",
      "\n",
      "   Tips  \n",
      "0    15  \n",
      "( 25 / 153 ) processed\n",
      "                         ID           Name  Likes  Rating  Tips\n",
      "0  5914ff32b23dfa207eca38de  Mumbai Masala     13     7.2     7\n",
      "( 26 / 153 ) processed\n",
      "                         ID                 Name  Likes  Rating  Tips\n",
      "0  529d382a11d2dd5ef107e641  Chapati House - NYC     73     7.8    18\n",
      "( 27 / 153 ) processed\n",
      "                         ID                           Name  Likes  Rating  \\\n",
      "0  54c2bd96498eaf5142e3fe92  Clove Indian Restaurant & Bar     30     7.6   \n",
      "\n",
      "   Tips  \n",
      "0    15  \n",
      "( 28 / 153 ) processed\n",
      "                         ID          Name  Likes  Rating  Tips\n",
      "0  56d87f3d498ee215abee5724  Delhi Masala     13     8.5     3\n",
      "( 29 / 153 ) processed\n",
      "                         ID                           Name  Likes  Rating  \\\n",
      "0  54c2bd96498eaf5142e3fe92  Clove Indian Restaurant & Bar     30     7.6   \n",
      "\n",
      "   Tips  \n",
      "0    15  \n",
      "( 30 / 153 ) processed\n",
      "                         ID      Name  Likes  Rating  Tips\n",
      "0  519fe6f5498e30595d370c44  Bawarchi      9     7.5     4\n",
      "( 31 / 153 ) processed\n",
      "                         ID            Name  Likes  Rating  Tips\n",
      "0  5272ca4511d22488f6895caf  Drunken Munkey    207     8.4    61\n",
      "( 32 / 153 ) processed\n",
      "                         ID              Name  Likes  Rating  Tips\n",
      "0  4fe4fb50c2eee335e4fea69d  Moti Mahal Delux    185     8.3    82\n",
      "( 33 / 153 ) processed\n",
      "                         ID    Name  Likes  Rating  Tips\n",
      "0  42489a80f964a5208b201fe3  Swagat    105     8.4    38\n",
      "( 34 / 153 ) processed\n",
      "                         ID    Name  Likes  Rating  Tips\n",
      "0  591890f43abcaf1ddca66e85  Ashoka     19     8.3     9\n",
      "( 35 / 153 ) processed\n",
      "                         ID           Name  Likes  Rating  Tips\n",
      "0  4b0dec08f964a520ae5223e3  Alachi Masala     18     7.6    17\n",
      "( 36 / 153 ) processed\n",
      "                         ID                   Name  Likes  Rating  Tips\n",
      "0  49d91c12f964a520015e1fe3  The Kati Roll Company    836     8.7   259\n",
      "( 37 / 153 ) processed\n",
      "                         ID                   Name  Likes  Rating  Tips\n",
      "0  59fcd48c464d6567ed2f5e37  The Kati Roll Company     18     8.6     2\n",
      "( 38 / 153 ) processed\n",
      "                         ID                Name  Likes  Rating  Tips\n",
      "0  5b5a2c9e66f3cd002ca0aab5  The Drunken Munkey     25     9.0     3\n",
      "( 39 / 153 ) processed\n",
      "                         ID              Name  Likes  Rating  Tips\n",
      "0  4bbb9dbded7776b0e1ad3e51  Tamarind TriBeCa    589     9.0   146\n",
      "( 40 / 153 ) processed\n",
      "                         ID                Name  Likes  Rating  Tips\n",
      "0  5b5a2c9e66f3cd002ca0aab5  The Drunken Munkey     25     9.0     3\n",
      "( 41 / 153 ) processed\n",
      "                         ID  Name  Likes  Rating  Tips\n",
      "0  591794df2be42556988e4a8e  Rahi    105     8.8    19\n",
      "( 42 / 153 ) processed\n",
      "                         ID              Name  Likes  Rating  Tips\n",
      "0  424de080f964a520ae201fe3  Manhattan Valley     42     7.8    30\n",
      "( 43 / 153 ) processed\n",
      "                         ID        Name  Likes  Rating  Tips\n",
      "0  4d24b812836f5481518645f7  Doaba Deli     41     7.4    13\n",
      "( 44 / 153 ) processed\n",
      "                         ID       Name  Likes  Rating  Tips\n",
      "0  49c5ad0af964a5201b571fe3  Roti Roll    114     8.0    58\n",
      "( 45 / 153 ) processed\n",
      "                         ID   Name  Likes  Rating  Tips\n",
      "0  538ba1f2498e279098e4210a  Awadh     49     8.0    13\n",
      "( 46 / 153 ) processed\n",
      "                         ID    Name  Likes  Rating  Tips\n",
      "0  4ad12c9df964a52040dd20e3  Aangan     35     7.5    14\n",
      "( 47 / 153 ) processed\n",
      "                         ID       Name  Likes  Rating  Tips\n",
      "0  49c5ad0af964a5201b571fe3  Roti Roll    114     8.0    58\n",
      "( 48 / 153 ) processed\n",
      "                         ID                 Name  Likes  Rating  Tips\n",
      "0  529d382a11d2dd5ef107e641  Chapati House - NYC     73     7.8    18\n",
      "( 49 / 153 ) processed\n",
      "                         ID                 Name  Likes  Rating  Tips\n",
      "0  4a70a75bf964a52016d81fe3  Bhatti Indian Grill    415     8.7   158\n",
      "( 50 / 153 ) processed\n",
      "                         ID   Name  Likes  Rating  Tips\n",
      "0  57f7cbbe498edf8f07c7ba83  Sahib     59     8.7    13\n",
      "( 51 / 153 ) processed\n",
      "                         ID     Name  Likes  Rating  Tips\n",
      "0  523b2b42498e1dfabcc8ab15  Pippali    304     8.7    76\n",
      "( 52 / 153 ) processed\n",
      "                         ID                   Name  Likes  Rating  Tips\n",
      "0  5b770657c0cacb002c89bc63  The Kati Roll Company     14     8.1     2\n",
      "( 53 / 153 ) processed\n",
      "                         ID                 Name  Likes  Rating  Tips\n",
      "0  4aa56c81f964a5204e4820e3  Seva Indian Cuisine    238     9.0   131\n",
      "( 54 / 153 ) processed\n",
      "                         ID            Name  Likes  Rating  Tips\n",
      "0  4afdcf29f964a520162b22e3  Rajbhog Sweets     37     8.3    24\n",
      "( 55 / 153 ) processed\n",
      "                         ID                      Name  Likes  Rating  Tips\n",
      "0  4b998d3ff964a520fc8235e3  Maharaja Sweets & Snacks     51     8.1    23\n",
      "( 56 / 153 ) processed\n",
      "                         ID      Name  Likes  Rating  Tips\n",
      "0  4c7060e734443704ca0e245f  Kababish     30     7.7    17\n",
      "( 57 / 153 ) processed\n",
      "                         ID           Name  Likes  Rating  Tips\n",
      "0  49ebb18ff964a52016671fe3  Delhi Heights     34     7.9    22\n",
      "( 58 / 153 ) processed\n",
      "                         ID           Name  Likes  Rating  Tips\n",
      "0  3fd66200f964a52009f11ee3  Jackson Diner    141     7.9    76\n",
      "( 59 / 153 ) processed\n",
      "                         ID  Name  Likes  Rating  Tips\n",
      "0  4b189424f964a52043d423e3  Dera     47     7.4    19\n",
      "( 60 / 153 ) processed\n",
      "                         ID                         Name  Likes  Rating  Tips\n",
      "0  4e334b7bb0fb17f64f81a8b2  Premium Sweets & Restaurant     11     7.5     5\n",
      "( 61 / 153 ) processed\n",
      "                         ID     Name  Likes  Rating  Tips\n",
      "0  527d9cbc498edf0db10bde6b  Samudra     48     8.5    16\n",
      "( 62 / 153 ) processed\n",
      "                         ID            Name  Likes  Rating  Tips\n",
      "0  4afdcf29f964a520162b22e3  Rajbhog Sweets     37     8.3    24\n",
      "( 63 / 153 ) processed\n",
      "                         ID                      Name  Likes  Rating  Tips\n",
      "0  4b998d3ff964a520fc8235e3  Maharaja Sweets & Snacks     51     8.1    23\n",
      "( 64 / 153 ) processed\n",
      "                         ID           Name  Likes  Rating  Tips\n",
      "0  3fd66200f964a52009f11ee3  Jackson Diner    141     7.9    76\n",
      "( 65 / 153 ) processed\n",
      "                         ID           Name  Likes  Rating  Tips\n",
      "0  49ebb18ff964a52016671fe3  Delhi Heights     34     7.9    22\n",
      "( 66 / 153 ) processed\n",
      "                         ID     Name  Likes  Rating  Tips\n",
      "0  527d9cbc498edf0db10bde6b  Samudra     48     8.5    16\n",
      "( 67 / 153 ) processed\n",
      "                         ID           Name  Likes  Rating  Tips\n",
      "0  49ebb18ff964a52016671fe3  Delhi Heights     34     7.9    22\n",
      "( 68 / 153 ) processed\n",
      "                         ID                Name  Likes  Rating  Tips\n",
      "0  5782c9ce498edde587f5aa14  Tikka Indian Grill     10     7.7     2\n",
      "( 69 / 153 ) processed\n",
      "                         ID                   Name  Likes  Rating  Tips\n",
      "0  4bbe78bfba9776b070cefdc8  Mehak Mughlai Cuisine      8     7.7    10\n",
      "( 70 / 153 ) processed\n",
      "                         ID          Name  Likes  Rating  Tips\n",
      "0  4b522029f964a520f26927e3  Sohna Punjab      8     7.6     2\n",
      "( 71 / 153 ) processed\n",
      "                         ID                Name  Likes  Rating  Tips\n",
      "0  5782c9ce498edde587f5aa14  Tikka Indian Grill     10     7.7     2\n",
      "( 72 / 153 ) processed\n",
      "                         ID        Name  Likes  Rating  Tips\n",
      "0  4f1b77d7e4b044fd359e6d21  India Cafe      6     7.1     3\n",
      "( 73 / 153 ) processed\n",
      "                         ID                Name  Likes  Rating  Tips\n",
      "0  4babc24ef964a5200ac73ae3  Royal India Palace      7     6.0     3\n",
      "( 74 / 153 ) processed\n",
      "                         ID          Name  Likes  Rating  Tips\n",
      "0  4bb2bc48a32876b02e0b01fe  Tandoori Hut      6     6.0    15\n",
      "( 75 / 153 ) processed\n",
      "                         ID                 Name  Likes  Rating  Tips\n",
      "0  4adbaef0f964a520ff2921e3  Punjabi Kabab House      7     5.7     7\n",
      "( 76 / 153 ) processed\n",
      "Empty DataFrame\n",
      "Columns: [ID, Name, Likes, Rating, Tips]\n",
      "Index: []\n",
      "No data available for id= 57d9e9a1498e545076560fef\n",
      "( 77 / 153 ) processed\n",
      "                         ID                  Name  Likes  Rating  Tips\n",
      "0  50a287a7e4b0033f830f06db  Raj's Indian Kitchen     22     7.4     9\n",
      "( 78 / 153 ) processed\n",
      "                         ID  Name  Likes  Rating  Tips\n",
      "0  5b931ea69d7468002c3b1382  Adda    116     9.0    34\n",
      "( 79 / 153 ) processed\n",
      "                         ID               Name  Likes  Rating  Tips\n",
      "0  4b1b341bf964a5208af923e3  Five Star Banquet     30     7.2    31\n",
      "( 80 / 153 ) processed\n",
      "                         ID  Name  Likes  Rating  Tips\n",
      "0  5b931ea69d7468002c3b1382  Adda    116     9.0    34\n",
      "( 81 / 153 ) processed\n",
      "                         ID                        Name  Likes  Rating  Tips\n",
      "0  50e1c9708aca7ff2b3e50353  Nepalese Indian Restaurant     55     8.3    18\n",
      "( 82 / 153 ) processed\n",
      "                         ID               Name  Likes  Rating  Tips\n",
      "0  5625af69498ebbc62b61a382  Aaheli Restaurant     12     7.4     6\n",
      "( 83 / 153 ) processed\n",
      "Empty DataFrame\n",
      "Columns: [ID, Name, Likes, Rating, Tips]\n",
      "Index: []\n",
      "No data available for id= 572d7c21498e098658a0edd7\n",
      "( 84 / 153 ) processed\n",
      "Empty DataFrame\n",
      "Columns: [ID, Name, Likes, Rating, Tips]\n",
      "Index: []\n",
      "No data available for id= 5682cfde498e0a65d524f8dd\n",
      "( 85 / 153 ) processed\n",
      "                         ID                         Name  Likes  Rating  Tips\n",
      "0  4f1f4996e4b01ff351a7a50c  Ayna Agra Indian Restaurant     39     8.2    12\n",
      "( 86 / 153 ) processed\n",
      "                         ID        Name  Likes  Rating  Tips\n",
      "0  539a4ff0498e79c6745baba9  Masala Box      9     7.8     2\n",
      "( 87 / 153 ) processed\n",
      "                         ID       Name  Likes  Rating  Tips\n",
      "0  539e27b0498e2eba582085ee  masalabox      7     6.8     2\n",
      "( 88 / 153 ) processed\n",
      "                         ID                       Name  Likes  Rating  Tips\n",
      "0  4b787c49f964a5209cd12ee3  Santoor Indian Restaurant     37     7.7    18\n",
      "( 89 / 153 ) processed\n",
      "                         ID             Name  Likes  Rating  Tips\n",
      "0  4b9030abf964a520397b33e3  Taste of Cochin      9     6.5     4\n",
      "( 90 / 153 ) processed\n",
      "                         ID           Name  Likes  Rating  Tips\n",
      "0  4df0f39dd4c04d0392c853ea  Sagar Chinese      7     5.9     6\n",
      "( 91 / 153 ) processed\n",
      "                         ID          Name  Likes  Rating  Tips\n",
      "0  4c0e256ab1b676b06589e186  Sohna Punjab      3     6.1     3\n",
      "( 92 / 153 ) processed\n",
      "Empty DataFrame\n",
      "Columns: [ID, Name, Likes, Rating, Tips]\n",
      "Index: []\n",
      "No data available for id= 4b96926df964a520abd534e3\n",
      "( 93 / 153 ) processed\n",
      "                         ID                               Name  Likes  Rating  \\\n",
      "0  4be334312fc7d13a7a81083a  Taj Mahal Restaurant & Party Hall     24     7.5   \n",
      "\n",
      "   Tips  \n",
      "0     5  \n",
      "( 94 / 153 ) processed\n",
      "                         ID          Name  Likes  Rating  Tips\n",
      "0  4bad49a0f964a52041423be3  Annam Brahma     15     8.1     3\n",
      "( 95 / 153 ) processed\n",
      "                         ID            Name  Likes  Rating  Tips\n",
      "0  4cc08b0900d83704ed474b5c  Sybil's Bakery      8     6.9     3\n",
      "( 96 / 153 ) processed\n",
      "                         ID          Name  Likes  Rating  Tips\n",
      "0  4bad49a0f964a52041423be3  Annam Brahma     15     8.1     3\n",
      "( 97 / 153 ) processed\n",
      "                         ID              Name  Likes  Rating  Tips\n",
      "0  4c434b2bd691c9b6ef8f8f0a  Sagar Restaurant     10     7.4     6\n",
      "( 98 / 153 ) processed\n",
      "                         ID            Name  Likes  Rating  Tips\n",
      "0  4cc08b0900d83704ed474b5c  Sybil's Bakery      8     6.9     3\n",
      "( 99 / 153 ) processed\n",
      "                         ID                    Name  Likes  Rating  Tips\n",
      "0  562035d9498e2abb4137c2c7  Yaar Indian Restaurant     30     8.4     7\n",
      "( 100 / 153 ) processed\n",
      "                         ID           Name  Likes  Rating  Tips\n",
      "0  527ffc0811d2d329d5e49abd  Jackson Diner      9     7.9     3\n",
      "( 101 / 153 ) processed\n",
      "                         ID            Name  Likes  Rating  Tips\n",
      "0  4e4e3e22bd4101d0d7a5c2d1  Kerala Kitchen      5     7.9     6\n",
      "( 102 / 153 ) processed\n",
      "                         ID                      Name  Likes  Rating  Tips\n",
      "0  4b647b56f964a520c4b62ae3  Usha Foods & Usha Sweets     33     7.7    10\n",
      "( 103 / 153 ) processed\n",
      "                         ID                       Name  Likes  Rating  Tips\n",
      "0  4b787c49f964a5209cd12ee3  Santoor Indian Restaurant     37     7.7    18\n",
      "( 104 / 153 ) processed\n",
      "                         ID           Name  Likes  Rating  Tips\n",
      "0  4c0c01e0bbc676b00d6b4cd5  Mumbai Xpress     16     6.9    18\n",
      "( 105 / 153 ) processed\n",
      "                         ID             Name  Likes  Rating  Tips\n",
      "0  4c76ff35a5676dcb72671721  Flavor Of India      6     5.7     6\n",
      "( 106 / 153 ) processed\n",
      "                         ID           Name  Likes  Rating  Tips\n",
      "0  4df0f39dd4c04d0392c853ea  Sagar Chinese      7     5.9     6\n",
      "( 107 / 153 ) processed\n",
      "Empty DataFrame\n",
      "Columns: [ID, Name, Likes, Rating, Tips]\n",
      "Index: []\n",
      "No data available for id= 571af96a498e9e392d8d3786\n",
      "( 108 / 153 ) processed\n",
      "Empty DataFrame\n",
      "Columns: [ID, Name, Likes, Rating, Tips]\n",
      "Index: []\n",
      "No data available for id= 55d68c1b498ecf05fa196fe1\n",
      "( 109 / 153 ) processed\n",
      "Empty DataFrame\n",
      "Columns: [ID, Name, Likes, Rating, Tips]\n",
      "Index: []\n",
      "No data available for id= 4e6bfe1c7d8b2c711b17bbe5\n",
      "( 110 / 153 ) processed\n",
      "                         ID                        Name  Likes  Rating  Tips\n",
      "0  4f580c1be4b0bdfd0e7e8102  Rajdhani Indian Restaurant     13     8.1     6\n",
      "( 111 / 153 ) processed\n",
      "                         ID              Name  Likes  Rating  Tips\n",
      "0  4c434b2bd691c9b6ef8f8f0a  Sagar Restaurant     10     7.4     6\n",
      "( 112 / 153 ) processed\n",
      "Empty DataFrame\n",
      "Columns: [ID, Name, Likes, Rating, Tips]\n",
      "Index: []\n",
      "No data available for id= 4b8d5734f964a520b1f532e3\n",
      "( 113 / 153 ) processed\n",
      "Empty DataFrame\n",
      "Columns: [ID, Name, Likes, Rating, Tips]\n",
      "Index: []\n",
      "No data available for id= 4a215243f964a520d17c1fe3\n",
      "( 114 / 153 ) processed\n",
      "                         ID                  Name  Likes  Rating  Tips\n",
      "0  5623f6f9498e5a44a08bfae8  Boishakhi Restaurant     17     8.1     7\n",
      "( 115 / 153 ) processed\n",
      "Empty DataFrame\n",
      "Columns: [ID, Name, Likes, Rating, Tips]\n",
      "Index: []\n",
      "No data available for id= 4dc0aaedae606fe8b71c226b\n",
      "( 116 / 153 ) processed\n",
      "                         ID         Name  Likes  Rating  Tips\n",
      "0  4b9be038f964a520393036e3  Dosa Garden     18     7.7    17\n",
      "( 117 / 153 ) processed\n",
      "                         ID               Name  Likes  Rating  Tips\n",
      "0  4be74a502468c928505a0243  Taste Of India II     29     8.1    14\n",
      "( 118 / 153 ) processed\n",
      "                         ID         Name  Likes  Rating  Tips\n",
      "0  4b9be038f964a520393036e3  Dosa Garden     18     7.7    17\n",
      "( 119 / 153 ) processed\n",
      "Empty DataFrame\n",
      "Columns: [ID, Name, Likes, Rating, Tips]\n",
      "Index: []\n",
      "No data available for id= 4b65f2e3f964a5206e0a2be3\n",
      "( 120 / 153 ) processed\n",
      "                         ID                     Name  Likes  Rating  Tips\n",
      "0  519ff6c8498e1300ddcbd45c  Anarkali Indian Cuisine     14     7.6     8\n",
      "( 121 / 153 ) processed\n",
      "                         ID       Name  Likes  Rating  Tips\n",
      "0  4db0f4371e729fcc56497f20  Mashallah     19     7.6     7\n",
      "( 122 / 153 ) processed\n",
      "                         ID                          Name  Likes  Rating  Tips\n",
      "0  4b718914f964a520c04b2de3  Madina Restaurant and Sweets     17     7.0    12\n",
      "( 123 / 153 ) processed\n",
      "                         ID                Name  Likes  Rating  Tips\n",
      "0  564d283d498e6e851df79d87  Great Indian Curry      3     7.0     2\n",
      "( 124 / 153 ) processed\n",
      "                         ID               Name  Likes  Rating  Tips\n",
      "0  4be74a502468c928505a0243  Taste Of India II     29     8.1    14\n",
      "( 125 / 153 ) processed\n",
      "                         ID            Name  Likes  Rating  Tips\n",
      "0  5272ca4511d22488f6895caf  Drunken Munkey    207     8.4    61\n",
      "( 126 / 153 ) processed\n",
      "                         ID                    Name  Likes  Rating  Tips\n",
      "0  56ed855a498ef3bb022352c3  Mughlai Indian Cuisine     26     7.8     9\n",
      "( 127 / 153 ) processed\n",
      "                         ID              Name  Likes  Rating  Tips\n",
      "0  4bbb9dbded7776b0e1ad3e51  Tamarind TriBeCa    589     9.0   146\n",
      "( 128 / 153 ) processed\n",
      "                         ID                             Name  Likes  Rating  \\\n",
      "0  5a29a12b898bdc04b45751ad  Deep Indian Kitchen (indikitch)     39     8.7   \n",
      "\n",
      "   Tips  \n",
      "0     3  \n",
      "( 129 / 153 ) processed\n",
      "                         ID                   Name  Likes  Rating  Tips\n",
      "0  49d91c12f964a520015e1fe3  The Kati Roll Company    836     8.7   259\n",
      "( 130 / 153 ) processed\n",
      "Empty DataFrame\n",
      "Columns: [ID, Name, Likes, Rating, Tips]\n",
      "Index: []\n",
      "No data available for id= 4b65f2e3f964a5206e0a2be3\n",
      "( 131 / 153 ) processed\n",
      "Empty DataFrame\n",
      "Columns: [ID, Name, Likes, Rating, Tips]\n",
      "Index: []\n",
      "No data available for id= 4b65f2e3f964a5206e0a2be3\n",
      "( 132 / 153 ) processed\n",
      "                         ID          Name  Likes  Rating  Tips\n",
      "0  4bad49a0f964a52041423be3  Annam Brahma     15     8.1     3\n",
      "( 133 / 153 ) processed\n",
      "                         ID              Name  Likes  Rating  Tips\n",
      "0  4c434b2bd691c9b6ef8f8f0a  Sagar Restaurant     10     7.4     6\n",
      "( 134 / 153 ) processed\n",
      "                         ID            Name  Likes  Rating  Tips\n",
      "0  4cc08b0900d83704ed474b5c  Sybil's Bakery      8     6.9     3\n",
      "( 135 / 153 ) processed\n",
      "Empty DataFrame\n",
      "Columns: [ID, Name, Likes, Rating, Tips]\n",
      "Index: []\n",
      "No data available for id= 4cb4a712db32f04dcb5adf4d\n",
      "( 136 / 153 ) processed\n",
      "Empty DataFrame\n",
      "Columns: [ID, Name, Likes, Rating, Tips]\n",
      "Index: []\n",
      "No data available for id= 4c2e8df2213c2d7f94742f5d\n",
      "( 137 / 153 ) processed\n",
      "                         ID         Name  Likes  Rating  Tips\n",
      "0  551b7f75498e86c00a0ed2e1  Hungry Bird      8     7.1     3\n",
      "( 138 / 153 ) processed\n",
      "                         ID                           Name  Likes  Rating  \\\n",
      "0  4a63bfb4f964a520b3c51fe3  Chola Eclectic Indian Cuisine    153     8.3   \n",
      "\n",
      "   Tips  \n",
      "0    56  \n",
      "( 139 / 153 ) processed\n",
      "                         ID              Name  Likes  Rating  Tips\n",
      "0  4fe4fb50c2eee335e4fea69d  Moti Mahal Delux    185     8.3    82\n",
      "( 140 / 153 ) processed\n",
      "                         ID                   Name  Likes  Rating  Tips\n",
      "0  4f57f98fe4b0bd50f6bb8b31  The Kati Roll Company    180     8.3    55\n",
      "( 141 / 153 ) processed\n",
      "                         ID                   Name  Likes  Rating  Tips\n",
      "0  59fcd48c464d6567ed2f5e37  The Kati Roll Company     18     8.6     2\n",
      "( 142 / 153 ) processed\n",
      "                         ID   Name  Likes  Rating  Tips\n",
      "0  5ac3984ae57ca64be4dc6168  INDAY     33     8.1     9\n",
      "( 143 / 153 ) processed\n",
      "                         ID                   Name  Likes  Rating  Tips\n",
      "0  4f57f98fe4b0bd50f6bb8b31  The Kati Roll Company    180     8.3    55\n",
      "( 144 / 153 ) processed\n",
      "                         ID                   Name  Likes  Rating  Tips\n",
      "0  59fcd48c464d6567ed2f5e37  The Kati Roll Company     18     8.6     2\n",
      "( 145 / 153 ) processed\n",
      "                         ID   Name  Likes  Rating  Tips\n",
      "0  5ac3984ae57ca64be4dc6168  INDAY     33     8.1     9\n",
      "( 146 / 153 ) processed\n",
      "                         ID            Name  Likes  Rating  Tips\n",
      "0  4c48da9f3013a59356c5f0e1  Saffron Garden     17     7.8    16\n",
      "( 147 / 153 ) processed\n",
      "                         ID  Name  Likes  Rating  Tips\n",
      "0  5b931ea69d7468002c3b1382  Adda    116     9.0    34\n",
      "( 148 / 153 ) processed\n",
      "                         ID             Name  Likes  Rating  Tips\n",
      "0  5539753f498edbace4746b67  Tandoori Masala     12     7.7     2\n",
      "( 149 / 153 ) processed\n",
      "                         ID                Name  Likes  Rating  Tips\n",
      "0  564d283d498e6e851df79d87  Great Indian Curry      3     7.0     2\n",
      "( 150 / 153 ) processed\n",
      "Empty DataFrame\n",
      "Columns: [ID, Name, Likes, Rating, Tips]\n",
      "Index: []\n",
      "No data available for id= 4e8b96bed3e303e9db3555fd\n",
      "( 151 / 153 ) processed\n",
      "                         ID               Name  Likes  Rating  Tips\n",
      "0  4b1b341bf964a5208af923e3  Five Star Banquet     30     7.2    31\n",
      "( 152 / 153 ) processed\n",
      "                         ID                  Name  Likes  Rating  Tips\n",
      "0  50a287a7e4b0033f830f06db  Raj's Indian Kitchen     22     7.4     9\n",
      "( 153 / 153 ) processed\n"
     ]
    }
   ],
   "source": [
    "# prepare neighborhood list that contains indian resturants\n",
    "column_names=['Borough', 'Neighborhood', 'ID','Name','Likes','Rating','Tips']\n",
    "indian_rest_stats_ny=pd.DataFrame(columns=column_names)\n",
    "count=1\n",
    "\n",
    "\n",
    "for row in indian_rest_ny.values.tolist():\n",
    "    Borough,Neighborhood,ID,Name=row\n",
    "    try:\n",
    "        venue_details=get_venue_details(ID)\n",
    "        print(venue_details)\n",
    "        id,name,likes,rating,tips=venue_details.values.tolist()[0]\n",
    "    except IndexError:\n",
    "        print('No data available for id=',ID)\n",
    "        # we will assign 0 value for these resturants as they may have been \n",
    "        #recently opened or details does not exist in FourSquare Database\n",
    "        id,name,likes,rating,tips=[0]*5\n",
    "    print('(',count,'/',len(indian_rest_ny),')','processed')\n",
    "    indian_rest_stats_ny = indian_rest_stats_ny.append({'Borough': Borough,\n",
    "                                                'Neighborhood': Neighborhood, \n",
    "                                                'ID': id,\n",
    "                                                'Name' : name,\n",
    "                                                'Likes' : likes,\n",
    "                                                'Rating' : rating,\n",
    "                                                'Tips' : tips\n",
    "                                               }, ignore_index=True)\n",
    "    count+=1"
   ]
  },
  {
   "cell_type": "markdown",
   "metadata": {},
   "source": [
    "Data set created based on the venue details acquired from Foursquare"
   ]
  },
  {
   "cell_type": "code",
   "execution_count": 58,
   "metadata": {},
   "outputs": [
    {
     "data": {
      "text/html": [
       "<div>\n",
       "<style scoped>\n",
       "    .dataframe tbody tr th:only-of-type {\n",
       "        vertical-align: middle;\n",
       "    }\n",
       "\n",
       "    .dataframe tbody tr th {\n",
       "        vertical-align: top;\n",
       "    }\n",
       "\n",
       "    .dataframe thead th {\n",
       "        text-align: right;\n",
       "    }\n",
       "</style>\n",
       "<table border=\"1\" class=\"dataframe\">\n",
       "  <thead>\n",
       "    <tr style=\"text-align: right;\">\n",
       "      <th></th>\n",
       "      <th>Borough</th>\n",
       "      <th>Neighborhood</th>\n",
       "      <th>ID</th>\n",
       "      <th>Name</th>\n",
       "      <th>Likes</th>\n",
       "      <th>Rating</th>\n",
       "      <th>Tips</th>\n",
       "    </tr>\n",
       "  </thead>\n",
       "  <tbody>\n",
       "    <tr>\n",
       "      <th>0</th>\n",
       "      <td>Bronx</td>\n",
       "      <td>Woodlawn</td>\n",
       "      <td>4c0448d9310fc9b6bf1dc761</td>\n",
       "      <td>Curry Spot</td>\n",
       "      <td>5</td>\n",
       "      <td>7.9</td>\n",
       "      <td>11</td>\n",
       "    </tr>\n",
       "    <tr>\n",
       "      <th>1</th>\n",
       "      <td>Bronx</td>\n",
       "      <td>Parkchester</td>\n",
       "      <td>4c194631838020a13e78e561</td>\n",
       "      <td>Melanies Roti Bar And Grill</td>\n",
       "      <td>3</td>\n",
       "      <td>6.1</td>\n",
       "      <td>2</td>\n",
       "    </tr>\n",
       "    <tr>\n",
       "      <th>2</th>\n",
       "      <td>Bronx</td>\n",
       "      <td>Spuyten Duyvil</td>\n",
       "      <td>4c04544df423a593ac83d116</td>\n",
       "      <td>Cumin Indian Cuisine</td>\n",
       "      <td>13</td>\n",
       "      <td>5.8</td>\n",
       "      <td>9</td>\n",
       "    </tr>\n",
       "    <tr>\n",
       "      <th>3</th>\n",
       "      <td>Bronx</td>\n",
       "      <td>Concourse</td>\n",
       "      <td>551b7f75498e86c00a0ed2e1</td>\n",
       "      <td>Hungry Bird</td>\n",
       "      <td>8</td>\n",
       "      <td>7.1</td>\n",
       "      <td>3</td>\n",
       "    </tr>\n",
       "    <tr>\n",
       "      <th>4</th>\n",
       "      <td>Bronx</td>\n",
       "      <td>Unionport</td>\n",
       "      <td>4c194631838020a13e78e561</td>\n",
       "      <td>Melanies Roti Bar And Grill</td>\n",
       "      <td>3</td>\n",
       "      <td>6.1</td>\n",
       "      <td>2</td>\n",
       "    </tr>\n",
       "  </tbody>\n",
       "</table>\n",
       "</div>"
      ],
      "text/plain": [
       "  Borough    Neighborhood                        ID  \\\n",
       "0   Bronx        Woodlawn  4c0448d9310fc9b6bf1dc761   \n",
       "1   Bronx     Parkchester  4c194631838020a13e78e561   \n",
       "2   Bronx  Spuyten Duyvil  4c04544df423a593ac83d116   \n",
       "3   Bronx       Concourse  551b7f75498e86c00a0ed2e1   \n",
       "4   Bronx       Unionport  4c194631838020a13e78e561   \n",
       "\n",
       "                          Name Likes  Rating Tips  \n",
       "0                   Curry Spot     5     7.9   11  \n",
       "1  Melanies Roti Bar And Grill     3     6.1    2  \n",
       "2         Cumin Indian Cuisine    13     5.8    9  \n",
       "3                  Hungry Bird     8     7.1    3  \n",
       "4  Melanies Roti Bar And Grill     3     6.1    2  "
      ]
     },
     "execution_count": 58,
     "metadata": {},
     "output_type": "execute_result"
    }
   ],
   "source": [
    "indian_rest_stats_ny.head()"
   ]
  },
  {
   "cell_type": "code",
   "execution_count": 59,
   "metadata": {},
   "outputs": [
    {
     "data": {
      "text/plain": [
       "(153, 7)"
      ]
     },
     "execution_count": 59,
     "metadata": {},
     "output_type": "execute_result"
    }
   ],
   "source": [
    "indian_rest_stats_ny.shape"
   ]
  },
  {
   "cell_type": "code",
   "execution_count": 60,
   "metadata": {},
   "outputs": [
    {
     "name": "stdout",
     "output_type": "stream",
     "text": [
      "<class 'pandas.core.frame.DataFrame'>\n",
      "RangeIndex: 153 entries, 0 to 152\n",
      "Data columns (total 7 columns):\n",
      "Borough         153 non-null object\n",
      "Neighborhood    153 non-null object\n",
      "ID              153 non-null object\n",
      "Name            153 non-null object\n",
      "Likes           153 non-null object\n",
      "Rating          153 non-null float64\n",
      "Tips            153 non-null object\n",
      "dtypes: float64(1), object(6)\n",
      "memory usage: 8.5+ KB\n"
     ]
    }
   ],
   "source": [
    "indian_rest_stats_ny.info()"
   ]
  },
  {
   "cell_type": "code",
   "execution_count": 61,
   "metadata": {},
   "outputs": [
    {
     "name": "stdout",
     "output_type": "stream",
     "text": [
      "<class 'pandas.core.frame.DataFrame'>\n",
      "RangeIndex: 153 entries, 0 to 152\n",
      "Data columns (total 7 columns):\n",
      "Borough         153 non-null object\n",
      "Neighborhood    153 non-null object\n",
      "ID              153 non-null object\n",
      "Name            153 non-null object\n",
      "Likes           153 non-null float64\n",
      "Rating          153 non-null float64\n",
      "Tips            153 non-null float64\n",
      "dtypes: float64(3), object(4)\n",
      "memory usage: 8.5+ KB\n"
     ]
    }
   ],
   "source": [
    "convert_types = { 'Likes': float, 'Tips': float }\n",
    "indian_rest_stats_ny = indian_rest_stats_ny.astype(convert_types)\n",
    "indian_rest_stats_ny.info()"
   ]
  },
  {
   "cell_type": "markdown",
   "metadata": {},
   "source": [
    "**Restaurant with most tips**"
   ]
  },
  {
   "cell_type": "code",
   "execution_count": 71,
   "metadata": {},
   "outputs": [
    {
     "data": {
      "text/plain": [
       "Borough                        Manhattan\n",
       "Neighborhood                     Midtown\n",
       "ID              49d91c12f964a520015e1fe3\n",
       "Name               The Kati Roll Company\n",
       "Likes                                836\n",
       "Rating                               8.7\n",
       "Tips                                 259\n",
       "Name: 36, dtype: object"
      ]
     },
     "execution_count": 71,
     "metadata": {},
     "output_type": "execute_result"
    }
   ],
   "source": [
    "indian_rest_stats_ny.iloc[indian_rest_stats_ny['Tips'].idxmax()]"
   ]
  },
  {
   "cell_type": "markdown",
   "metadata": {},
   "source": [
    "**Highly rated Restaurant**"
   ]
  },
  {
   "cell_type": "code",
   "execution_count": 62,
   "metadata": {},
   "outputs": [
    {
     "data": {
      "text/plain": [
       "Borough                        Manhattan\n",
       "Neighborhood           Greenwich Village\n",
       "ID              5b5a2c9e66f3cd002ca0aab5\n",
       "Name                  The Drunken Munkey\n",
       "Likes                                 25\n",
       "Rating                                 9\n",
       "Tips                                   3\n",
       "Name: 38, dtype: object"
      ]
     },
     "execution_count": 62,
     "metadata": {},
     "output_type": "execute_result"
    }
   ],
   "source": [
    "indian_rest_stats_ny.iloc[indian_rest_stats_ny['Rating'].idxmax()]"
   ]
  },
  {
   "cell_type": "markdown",
   "metadata": {},
   "source": [
    "**Most Liked Restaurant**"
   ]
  },
  {
   "cell_type": "code",
   "execution_count": 63,
   "metadata": {},
   "outputs": [
    {
     "data": {
      "text/plain": [
       "Borough                        Manhattan\n",
       "Neighborhood                     Midtown\n",
       "ID              49d91c12f964a520015e1fe3\n",
       "Name               The Kati Roll Company\n",
       "Likes                                836\n",
       "Rating                               8.7\n",
       "Tips                                 259\n",
       "Name: 36, dtype: object"
      ]
     },
     "execution_count": 63,
     "metadata": {},
     "output_type": "execute_result"
    }
   ],
   "source": [
    "indian_rest_stats_ny.iloc[indian_rest_stats_ny['Likes'].idxmax()]"
   ]
  },
  {
   "cell_type": "markdown",
   "metadata": {},
   "source": [
    "Create a data set with the average rating of all the restaurants in the particular neighborhood of New York city"
   ]
  },
  {
   "cell_type": "code",
   "execution_count": 64,
   "metadata": {},
   "outputs": [],
   "source": [
    "ny_neighborhood_stats=indian_rest_stats_ny.groupby('Neighborhood',as_index=False).mean()[['Neighborhood','Rating']]\n",
    "ny_neighborhood_stats.columns=['Neighborhood','Average Rating']"
   ]
  },
  {
   "cell_type": "markdown",
   "metadata": {},
   "source": [
    "***List of Top 10 neighborhoods which are in their order of average rating of Indian cuisine restaurants***"
   ]
  },
  {
   "cell_type": "code",
   "execution_count": 65,
   "metadata": {},
   "outputs": [
    {
     "data": {
      "text/html": [
       "<div>\n",
       "<style scoped>\n",
       "    .dataframe tbody tr th:only-of-type {\n",
       "        vertical-align: middle;\n",
       "    }\n",
       "\n",
       "    .dataframe tbody tr th {\n",
       "        vertical-align: top;\n",
       "    }\n",
       "\n",
       "    .dataframe thead th {\n",
       "        text-align: right;\n",
       "    }\n",
       "</style>\n",
       "<table border=\"1\" class=\"dataframe\">\n",
       "  <thead>\n",
       "    <tr style=\"text-align: right;\">\n",
       "      <th></th>\n",
       "      <th>Neighborhood</th>\n",
       "      <th>Average Rating</th>\n",
       "    </tr>\n",
       "  </thead>\n",
       "  <tbody>\n",
       "    <tr>\n",
       "      <th>0</th>\n",
       "      <td>Astoria</td>\n",
       "      <td>9.0</td>\n",
       "    </tr>\n",
       "    <tr>\n",
       "      <th>70</th>\n",
       "      <td>Tribeca</td>\n",
       "      <td>9.0</td>\n",
       "    </tr>\n",
       "    <tr>\n",
       "      <th>5</th>\n",
       "      <td>Blissville</td>\n",
       "      <td>9.0</td>\n",
       "    </tr>\n",
       "    <tr>\n",
       "      <th>11</th>\n",
       "      <td>Civic Center</td>\n",
       "      <td>9.0</td>\n",
       "    </tr>\n",
       "    <tr>\n",
       "      <th>30</th>\n",
       "      <td>Greenwich Village</td>\n",
       "      <td>9.0</td>\n",
       "    </tr>\n",
       "    <tr>\n",
       "      <th>76</th>\n",
       "      <td>West Village</td>\n",
       "      <td>8.9</td>\n",
       "    </tr>\n",
       "    <tr>\n",
       "      <th>44</th>\n",
       "      <td>Midtown South</td>\n",
       "      <td>8.7</td>\n",
       "    </tr>\n",
       "    <tr>\n",
       "      <th>43</th>\n",
       "      <td>Midtown</td>\n",
       "      <td>8.7</td>\n",
       "    </tr>\n",
       "    <tr>\n",
       "      <th>28</th>\n",
       "      <td>Gramercy</td>\n",
       "      <td>8.7</td>\n",
       "    </tr>\n",
       "    <tr>\n",
       "      <th>25</th>\n",
       "      <td>Fort Greene</td>\n",
       "      <td>8.6</td>\n",
       "    </tr>\n",
       "  </tbody>\n",
       "</table>\n",
       "</div>"
      ],
      "text/plain": [
       "         Neighborhood  Average Rating\n",
       "0             Astoria             9.0\n",
       "70            Tribeca             9.0\n",
       "5          Blissville             9.0\n",
       "11       Civic Center             9.0\n",
       "30  Greenwich Village             9.0\n",
       "76       West Village             8.9\n",
       "44      Midtown South             8.7\n",
       "43            Midtown             8.7\n",
       "28           Gramercy             8.7\n",
       "25        Fort Greene             8.6"
      ]
     },
     "execution_count": 65,
     "metadata": {},
     "output_type": "execute_result"
    }
   ],
   "source": [
    "ny_neighborhood_stats.sort_values(['Average Rating'],ascending=False).head(10)"
   ]
  },
  {
   "cell_type": "markdown",
   "metadata": {},
   "source": [
    "***Boroughs sorted with high average rating of Indian cuisine restaurants in New York city***"
   ]
  },
  {
   "cell_type": "code",
   "execution_count": 66,
   "metadata": {},
   "outputs": [],
   "source": [
    "ny_borough_stats=indian_rest_stats_ny.groupby('Borough',as_index=False).mean()[['Borough','Rating']]\n",
    "ny_borough_stats.columns=['Borough','Average Rating']"
   ]
  },
  {
   "cell_type": "code",
   "execution_count": 67,
   "metadata": {},
   "outputs": [
    {
     "data": {
      "text/html": [
       "<div>\n",
       "<style scoped>\n",
       "    .dataframe tbody tr th:only-of-type {\n",
       "        vertical-align: middle;\n",
       "    }\n",
       "\n",
       "    .dataframe tbody tr th {\n",
       "        vertical-align: top;\n",
       "    }\n",
       "\n",
       "    .dataframe thead th {\n",
       "        text-align: right;\n",
       "    }\n",
       "</style>\n",
       "<table border=\"1\" class=\"dataframe\">\n",
       "  <thead>\n",
       "    <tr style=\"text-align: right;\">\n",
       "      <th></th>\n",
       "      <th>Borough</th>\n",
       "      <th>Average Rating</th>\n",
       "    </tr>\n",
       "  </thead>\n",
       "  <tbody>\n",
       "    <tr>\n",
       "      <th>2</th>\n",
       "      <td>Manhattan</td>\n",
       "      <td>8.223256</td>\n",
       "    </tr>\n",
       "    <tr>\n",
       "      <th>1</th>\n",
       "      <td>Brooklyn</td>\n",
       "      <td>7.384000</td>\n",
       "    </tr>\n",
       "    <tr>\n",
       "      <th>0</th>\n",
       "      <td>Bronx</td>\n",
       "      <td>6.683333</td>\n",
       "    </tr>\n",
       "    <tr>\n",
       "      <th>3</th>\n",
       "      <td>Queens</td>\n",
       "      <td>6.306944</td>\n",
       "    </tr>\n",
       "    <tr>\n",
       "      <th>4</th>\n",
       "      <td>Staten Island</td>\n",
       "      <td>4.514286</td>\n",
       "    </tr>\n",
       "  </tbody>\n",
       "</table>\n",
       "</div>"
      ],
      "text/plain": [
       "         Borough  Average Rating\n",
       "2      Manhattan        8.223256\n",
       "1       Brooklyn        7.384000\n",
       "0          Bronx        6.683333\n",
       "3         Queens        6.306944\n",
       "4  Staten Island        4.514286"
      ]
     },
     "execution_count": 67,
     "metadata": {},
     "output_type": "execute_result"
    }
   ],
   "source": [
    "ny_borough_stats.sort_values(['Average Rating'],ascending=False).head()"
   ]
  },
  {
   "cell_type": "markdown",
   "metadata": {},
   "source": [
    "Bar chart visualizing the restaurants with average rating based on Boroughs"
   ]
  },
  {
   "cell_type": "code",
   "execution_count": 68,
   "metadata": {},
   "outputs": [
    {
     "data": {
      "image/png": "[encoded data removed]",
      "text/plain": [
       "<Figure size 540x630 with 1 Axes>"
      ]
     },
     "metadata": {
      "needs_background": "light"
     },
     "output_type": "display_data"
    }
   ],
   "source": [
    "plt.figure(figsize=(6,7), dpi = 90)\n",
    "# title\n",
    "plt.title('Average rating of Indian Resturants for each Borough')\n",
    "#On x-axis\n",
    "plt.xlabel('Borough', fontsize = 15)\n",
    "#On y-axis\n",
    "plt.ylabel('Average Rating', fontsize=15)\n",
    "#giving a bar plot\n",
    "indian_rest_stats_ny.groupby('Borough').mean()['Rating'].plot(kind='bar', color='#12EA92')\n",
    "#legend\n",
    "plt.legend()\n",
    "#displays the plot\n",
    "plt.show()"
   ]
  },
  {
   "cell_type": "markdown",
   "metadata": {},
   "source": [
    "List of neighborhoods with average rating greater than or equal to 9 for Indian cuisine"
   ]
  },
  {
   "cell_type": "code",
   "execution_count": 69,
   "metadata": {},
   "outputs": [],
   "source": [
    "ny_neighborhood_stats=ny_neighborhood_stats[ny_neighborhood_stats['Average Rating']>=9.0]"
   ]
  },
  {
   "cell_type": "code",
   "execution_count": 70,
   "metadata": {},
   "outputs": [
    {
     "data": {
      "text/html": [
       "<div>\n",
       "<style scoped>\n",
       "    .dataframe tbody tr th:only-of-type {\n",
       "        vertical-align: middle;\n",
       "    }\n",
       "\n",
       "    .dataframe tbody tr th {\n",
       "        vertical-align: top;\n",
       "    }\n",
       "\n",
       "    .dataframe thead th {\n",
       "        text-align: right;\n",
       "    }\n",
       "</style>\n",
       "<table border=\"1\" class=\"dataframe\">\n",
       "  <thead>\n",
       "    <tr style=\"text-align: right;\">\n",
       "      <th></th>\n",
       "      <th>Neighborhood</th>\n",
       "      <th>Average Rating</th>\n",
       "    </tr>\n",
       "  </thead>\n",
       "  <tbody>\n",
       "    <tr>\n",
       "      <th>0</th>\n",
       "      <td>Astoria</td>\n",
       "      <td>9.0</td>\n",
       "    </tr>\n",
       "    <tr>\n",
       "      <th>5</th>\n",
       "      <td>Blissville</td>\n",
       "      <td>9.0</td>\n",
       "    </tr>\n",
       "    <tr>\n",
       "      <th>11</th>\n",
       "      <td>Civic Center</td>\n",
       "      <td>9.0</td>\n",
       "    </tr>\n",
       "    <tr>\n",
       "      <th>30</th>\n",
       "      <td>Greenwich Village</td>\n",
       "      <td>9.0</td>\n",
       "    </tr>\n",
       "    <tr>\n",
       "      <th>70</th>\n",
       "      <td>Tribeca</td>\n",
       "      <td>9.0</td>\n",
       "    </tr>\n",
       "  </tbody>\n",
       "</table>\n",
       "</div>"
      ],
      "text/plain": [
       "         Neighborhood  Average Rating\n",
       "0             Astoria             9.0\n",
       "5          Blissville             9.0\n",
       "11       Civic Center             9.0\n",
       "30  Greenwich Village             9.0\n",
       "70            Tribeca             9.0"
      ]
     },
     "execution_count": 70,
     "metadata": {},
     "output_type": "execute_result"
    }
   ],
   "source": [
    "ny_neighborhood_stats"
   ]
  },
  {
   "cell_type": "code",
   "execution_count": 71,
   "metadata": {},
   "outputs": [],
   "source": [
    "ny_neighborhood_stats=pd.merge(ny_neighborhood_stats,df_ny, on='Neighborhood')"
   ]
  },
  {
   "cell_type": "code",
   "execution_count": 72,
   "metadata": {},
   "outputs": [],
   "source": [
    "ny_neighborhood_stats=ny_neighborhood_stats[['Borough','Neighborhood','Latitude','Longitude','Average Rating']]"
   ]
  },
  {
   "cell_type": "code",
   "execution_count": 73,
   "metadata": {},
   "outputs": [
    {
     "data": {
      "text/html": [
       "<div>\n",
       "<style scoped>\n",
       "    .dataframe tbody tr th:only-of-type {\n",
       "        vertical-align: middle;\n",
       "    }\n",
       "\n",
       "    .dataframe tbody tr th {\n",
       "        vertical-align: top;\n",
       "    }\n",
       "\n",
       "    .dataframe thead th {\n",
       "        text-align: right;\n",
       "    }\n",
       "</style>\n",
       "<table border=\"1\" class=\"dataframe\">\n",
       "  <thead>\n",
       "    <tr style=\"text-align: right;\">\n",
       "      <th></th>\n",
       "      <th>Borough</th>\n",
       "      <th>Neighborhood</th>\n",
       "      <th>Latitude</th>\n",
       "      <th>Longitude</th>\n",
       "      <th>Average Rating</th>\n",
       "    </tr>\n",
       "  </thead>\n",
       "  <tbody>\n",
       "    <tr>\n",
       "      <th>0</th>\n",
       "      <td>Queens</td>\n",
       "      <td>Astoria</td>\n",
       "      <td>40.768509</td>\n",
       "      <td>-73.915654</td>\n",
       "      <td>9.0</td>\n",
       "    </tr>\n",
       "    <tr>\n",
       "      <th>1</th>\n",
       "      <td>Queens</td>\n",
       "      <td>Blissville</td>\n",
       "      <td>40.737251</td>\n",
       "      <td>-73.932442</td>\n",
       "      <td>9.0</td>\n",
       "    </tr>\n",
       "    <tr>\n",
       "      <th>2</th>\n",
       "      <td>Manhattan</td>\n",
       "      <td>Civic Center</td>\n",
       "      <td>40.715229</td>\n",
       "      <td>-74.005415</td>\n",
       "      <td>9.0</td>\n",
       "    </tr>\n",
       "    <tr>\n",
       "      <th>3</th>\n",
       "      <td>Manhattan</td>\n",
       "      <td>Greenwich Village</td>\n",
       "      <td>40.726933</td>\n",
       "      <td>-73.999914</td>\n",
       "      <td>9.0</td>\n",
       "    </tr>\n",
       "    <tr>\n",
       "      <th>4</th>\n",
       "      <td>Manhattan</td>\n",
       "      <td>Tribeca</td>\n",
       "      <td>40.721522</td>\n",
       "      <td>-74.010683</td>\n",
       "      <td>9.0</td>\n",
       "    </tr>\n",
       "  </tbody>\n",
       "</table>\n",
       "</div>"
      ],
      "text/plain": [
       "     Borough       Neighborhood   Latitude  Longitude  Average Rating\n",
       "0     Queens            Astoria  40.768509 -73.915654             9.0\n",
       "1     Queens         Blissville  40.737251 -73.932442             9.0\n",
       "2  Manhattan       Civic Center  40.715229 -74.005415             9.0\n",
       "3  Manhattan  Greenwich Village  40.726933 -73.999914             9.0\n",
       "4  Manhattan            Tribeca  40.721522 -74.010683             9.0"
      ]
     },
     "execution_count": 73,
     "metadata": {},
     "output_type": "execute_result"
    }
   ],
   "source": [
    "ny_neighborhood_stats"
   ]
  },
  {
   "cell_type": "markdown",
   "metadata": {},
   "source": [
    "Visualize"
   ]
  },
  {
   "cell_type": "code",
   "execution_count": 87,
   "metadata": {},
   "outputs": [],
   "source": [
    "# create map and display it\n",
    "ny_map = folium.Map(location=geo_location('New York'), zoom_start=12)"
   ]
  },
  {
   "cell_type": "code",
   "execution_count": 88,
   "metadata": {},
   "outputs": [],
   "source": [
    "incidents = folium.map.FeatureGroup()\n",
    "\n",
    "# loop through the 100 crimes and add each to the incidents feature group\n",
    "for lat, lng, in ny_neighborhood_stats[['Latitude','Longitude']].values:\n",
    "    incidents.add_child(\n",
    "        folium.CircleMarker(\n",
    "            [lat, lng],\n",
    "            radius=10, # define how big you want the circle markers to be\n",
    "            color='#EA1253',\n",
    "            fill=True,\n",
    "            fill_color='#12EA92',\n",
    "            fill_opacity=0.4\n",
    "        )\n",
    "    )"
   ]
  },
  {
   "cell_type": "code",
   "execution_count": 89,
   "metadata": {},
   "outputs": [],
   "source": [
    "ny_neighborhood_stats['Label']=ny_neighborhood_stats['Neighborhood']+', '+ny_neighborhood_stats['Borough']+'('+ny_neighborhood_stats['Average Rating'].map(str)+')'"
   ]
  },
  {
   "cell_type": "markdown",
   "metadata": {},
   "source": [
    "![vis-5.jpg](https://raw.githubusercontent.com/rohanbollareddi/Coursera_Capstone/master/vis-5.JPG)"
   ]
  },
  {
   "cell_type": "markdown",
   "metadata": {},
   "source": [
    "Create a choropleth map to visualize the borough based on the average rating for better understanding."
   ]
  },
  {
   "cell_type": "code",
   "execution_count": null,
   "metadata": {},
   "outputs": [],
   "source": [
    "ny_map = folium.Map(location=geo_location('New York'), zoom_start=11)\n",
    "ny_geo = r'geo-boundaries.json'\n",
    "\n",
    "ny_map.choropleth(\n",
    "    geo_data=ny_geo,\n",
    "    data=ny_borough_stats,\n",
    "    columns=['Borough', 'Average Rating'],\n",
    "    key_on='feature.properties.boro_name',\n",
    "    fill_color='YlGnBu',\n",
    "    fill_opacity=0.6, \n",
    "    line_opacity=0.4,\n",
    "    legend_name='Average Rating'\n",
    ")\n",
    "\n",
    "# display map\n",
    "# as this is huge map data , we will save it to a file\n",
    "ny_map.save('rated-map.html')"
   ]
  },
  {
   "cell_type": "markdown",
   "metadata": {},
   "source": [
    "![vis-6.jpg](https://raw.githubusercontent.com/rohanbollareddi/Coursera_Capstone/master/vis-6.jpg)"
   ]
  },
  {
   "cell_type": "markdown",
   "metadata": {},
   "source": [
    "## 4. Conclusion"
   ]
  },
  {
   "cell_type": "markdown",
   "metadata": {},
   "source": [
    "Based on the Data Analysis and Visualization using Folium and Matplotlib we have rendered various bar charts and two maps from which we can come to a better understanding of the interests we had earlier to be discovered which are specified as follows.\n",
    "\n",
    "* Best Neighborhood for opening Restaurant (Indian Cuisine) in New York.\n",
    "  * Astoria(Queens), Blissville(Queens), Civic Center(Manhattan) are some of the best neighborhoods for indian cuisine.\n",
    "* Area which lack Indian Restaurants.\n",
    "  * Staten Island ranks last in average rating of Indian Resturants.\n",
    "* Places with best Indian Cuisine. \n",
    "  * Manhattan is the best place to stay if you prefer Indian Cuisine.\n",
    "* Areas with Potential Indian Restaurants. \n",
    "  * Manhattan have potential Indian Resturant Market"
   ]
  }
 ],
 "metadata": {
  "kernelspec": {
   "display_name": "Python",
   "language": "python",
   "name": "conda-env-python-py"
  },
  "language_info": {
   "codemirror_mode": {
    "name": "ipython",
    "version": 3
   },
   "file_extension": ".py",
   "mimetype": "text/x-python",
   "name": "python",
   "nbconvert_exporter": "python",
   "pygments_lexer": "ipython3",
   "version": "3.6.10"
  }
 },
 "nbformat": 4,
 "nbformat_minor": 4
}
